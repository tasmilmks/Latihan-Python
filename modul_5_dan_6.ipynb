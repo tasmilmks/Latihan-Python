{
  "nbformat": 4,
  "nbformat_minor": 0,
  "metadata": {
    "colab": {
      "name": "modul 5 dan 6.ipynb",
      "provenance": [],
      "authorship_tag": "ABX9TyNDO1BGOHRd2UPTB2bwVa46",
      "include_colab_link": true
    },
    "kernelspec": {
      "name": "python3",
      "display_name": "Python 3"
    }
  },
  "cells": [
    {
      "cell_type": "markdown",
      "metadata": {
        "id": "view-in-github",
        "colab_type": "text"
      },
      "source": [
        "<a href=\"https://colab.research.google.com/github/tasmilmks/Latihan-Python/blob/master/modul_5_dan_6.ipynb\" target=\"_parent\"><img src=\"https://colab.research.google.com/assets/colab-badge.svg\" alt=\"Open In Colab\"/></a>"
      ]
    },
    {
      "cell_type": "code",
      "metadata": {
        "id": "wIVWvh1Qvhdc",
        "colab_type": "code",
        "colab": {
          "base_uri": "https://localhost:8080/",
          "height": 34
        },
        "outputId": "05217259-0d60-4842-d0a3-2ad5d14c60e0"
      },
      "source": [
        "x='\\''\n",
        "print(len(x))"
      ],
      "execution_count": null,
      "outputs": [
        {
          "output_type": "stream",
          "text": [
            "1\n"
          ],
          "name": "stdout"
        }
      ]
    },
    {
      "cell_type": "code",
      "metadata": {
        "id": "RaQ0dItIwVP_",
        "colab_type": "code",
        "colab": {
          "base_uri": "https://localhost:8080/",
          "height": 164
        },
        "outputId": "7d7ad83c-84d4-4e28-d88c-dc2b19583bb8"
      },
      "source": [
        "print(float(\"1, 3\"))"
      ],
      "execution_count": null,
      "outputs": [
        {
          "output_type": "error",
          "ename": "ValueError",
          "evalue": "ignored",
          "traceback": [
            "\u001b[0;31m---------------------------------------------------------------------------\u001b[0m",
            "\u001b[0;31mValueError\u001b[0m                                Traceback (most recent call last)",
            "\u001b[0;32m<ipython-input-2-5c7bd3a0cf42>\u001b[0m in \u001b[0;36m<module>\u001b[0;34m()\u001b[0m\n\u001b[0;32m----> 1\u001b[0;31m \u001b[0mprint\u001b[0m\u001b[0;34m(\u001b[0m\u001b[0mfloat\u001b[0m\u001b[0;34m(\u001b[0m\u001b[0;34m\"1, 3\"\u001b[0m\u001b[0;34m)\u001b[0m\u001b[0;34m)\u001b[0m\u001b[0;34m\u001b[0m\u001b[0;34m\u001b[0m\u001b[0m\n\u001b[0m",
            "\u001b[0;31mValueError\u001b[0m: could not convert string to float: '1, 3'"
          ]
        }
      ]
    },
    {
      "cell_type": "code",
      "metadata": {
        "id": "AVShToqexxkR",
        "colab_type": "code",
        "colab": {
          "base_uri": "https://localhost:8080/",
          "height": 34
        },
        "outputId": "3230724a-b91e-494f-dddf-6be4467b9be5"
      },
      "source": [
        "print(ord('c') - ord('a'))"
      ],
      "execution_count": null,
      "outputs": [
        {
          "output_type": "stream",
          "text": [
            "2\n"
          ],
          "name": "stdout"
        }
      ]
    },
    {
      "cell_type": "code",
      "metadata": {
        "id": "hvm1s-vhx8lU",
        "colab_type": "code",
        "colab": {
          "base_uri": "https://localhost:8080/",
          "height": 34
        },
        "outputId": "1b23e9d0-3fc1-43ea-cb4e-808eb32fe55f"
      },
      "source": [
        "print('Mike' > 'Mikey')"
      ],
      "execution_count": null,
      "outputs": [
        {
          "output_type": "stream",
          "text": [
            "False\n"
          ],
          "name": "stdout"
        }
      ]
    },
    {
      "cell_type": "code",
      "metadata": {
        "id": "v_Iy5sWdyGv4",
        "colab_type": "code",
        "colab": {
          "base_uri": "https://localhost:8080/",
          "height": 34
        },
        "outputId": "16c3c0ca-13de-4122-e062-515549eea1ac"
      },
      "source": [
        "print(chr(ord('z')-2))"
      ],
      "execution_count": null,
      "outputs": [
        {
          "output_type": "stream",
          "text": [
            "x\n"
          ],
          "name": "stdout"
        }
      ]
    },
    {
      "cell_type": "code",
      "metadata": {
        "id": "_3kVbOov4W5l",
        "colab_type": "code",
        "colab": {
          "base_uri": "https://localhost:8080/",
          "height": 34
        },
        "outputId": "0936c9b7-2dc1-41bb-a760-e0ccbee951df"
      },
      "source": [
        "class A:\n",
        "  def __str__(self):\n",
        "    return 'a'\n",
        "class B(A):\n",
        "  def __str__(self):\n",
        "    return 'b'\n",
        "class C(B):\n",
        "  pass\n",
        "\n",
        "o=B()\n",
        "print(o)\n",
        "\n",
        "\n",
        "  \n"
      ],
      "execution_count": null,
      "outputs": [
        {
          "output_type": "stream",
          "text": [
            "b\n"
          ],
          "name": "stdout"
        }
      ]
    },
    {
      "cell_type": "code",
      "metadata": {
        "id": "jrL_Q1J17ANW",
        "colab_type": "code",
        "colab": {
          "base_uri": "https://localhost:8080/",
          "height": 34
        },
        "outputId": "a3087084-4993-4efa-e99e-492848b50c36"
      },
      "source": [
        "class A:\n",
        "  def a(self):\n",
        "    print('a')\n",
        "class B:\n",
        "  def a(self):\n",
        "    print('b')\n",
        "class C(B,A):\n",
        "  def c(self):\n",
        "    self.a()\n",
        "\n",
        "o=C()\n",
        "o.c()"
      ],
      "execution_count": null,
      "outputs": [
        {
          "output_type": "stream",
          "text": [
            "b\n"
          ],
          "name": "stdout"
        }
      ]
    },
    {
      "cell_type": "code",
      "metadata": {
        "id": "OcV-56bl8lHT",
        "colab_type": "code",
        "colab": {}
      },
      "source": [
        "def I():\n",
        "  s='abcdef'\n",
        "  for c in s[::2]:\n",
        "    yield c\n",
        "  for x in I():\n",
        "    print(x,end='')"
      ],
      "execution_count": null,
      "outputs": []
    },
    {
      "cell_type": "code",
      "metadata": {
        "id": "MvgZiPOx_TyT",
        "colab_type": "code",
        "colab": {}
      },
      "source": [
        ""
      ],
      "execution_count": null,
      "outputs": []
    },
    {
      "cell_type": "code",
      "metadata": {
        "id": "PLsPVdpZ5Gho",
        "colab_type": "code",
        "colab": {
          "base_uri": "https://localhost:8080/",
          "height": 34
        },
        "outputId": "32d3bd5d-3f4d-4ecf-a1f4-4ab52c4499cc"
      },
      "source": [
        "class Ex(Exception):\n",
        "  def __init_(self,msg):\n",
        "    Exception.__init__(self,msg+msg)\n",
        "    self.args(msg,)\n",
        "try:\n",
        "  raise Ex('ex')\n",
        "except Ex as e:\n",
        "  print(e)\n",
        "except Exception as e:\n",
        "  print(e) "
      ],
      "execution_count": null,
      "outputs": [
        {
          "output_type": "stream",
          "text": [
            "ex\n"
          ],
          "name": "stdout"
        }
      ]
    }
  ]
}
{
  "nbformat": 4,
  "nbformat_minor": 0,
  "metadata": {
    "colab": {
      "name": "Solusi latihan SBA.ipynb",
      "provenance": [],
      "collapsed_sections": [],
      "include_colab_link": true
    },
    "kernelspec": {
      "name": "python3",
      "display_name": "Python 3"
    }
  },
  "cells": [
    {
      "cell_type": "markdown",
      "metadata": {
        "id": "view-in-github",
        "colab_type": "text"
      },
      "source": [
        "<a href=\"https://colab.research.google.com/github/tasmilmks/Latihan-Python/blob/master/Solusi_latihan_SBA.ipynb\" target=\"_parent\"><img src=\"https://colab.research.google.com/assets/colab-badge.svg\" alt=\"Open In Colab\"/></a>"
      ]
    },
    {
      "cell_type": "code",
      "metadata": {
        "id": "o7NZc-AGPluY",
        "colab_type": "code",
        "colab": {
          "base_uri": "https://localhost:8080/",
          "height": 51
        },
        "outputId": "c25424c1-4801-4bff-f330-06dd896d9dcd"
      },
      "source": [
        "'''\n",
        "namafile: latihanSBA.py\n",
        "Lembar kerja/script Latihan SBA\n",
        "'''\n",
        "# >>>>>>LEMBAR KERJA>>>>>>>>>\n",
        "# lembar ini hanya berisi pendefinisian fungsi dan class saja\n",
        "\n",
        "#email netacad\n",
        "email = ''\n",
        "\n",
        "import math\n",
        "\n",
        "#soal 1\n",
        "class titik2d:  \n",
        "  \n",
        "  def __init__(self,x,y):\n",
        "    self.x = x\n",
        "    self.y = y\n",
        "\n",
        "  def ambiltitik(self):\n",
        "    return self.x, self.y  \n",
        "  \n",
        "  def tambahkan(self,titik):\n",
        "    self.x +=titik.x\n",
        "    self.y +=titik.y\n",
        "    \n",
        "# soal 2\n",
        "def run():\n",
        "  s = list(map(float, input().split()))\n",
        "  return titik2d(*s)\n",
        "\n",
        "# >>>>>>AKHIR LEMBAR KERJA>>>>>>>>>\n",
        "\n",
        "\n",
        "# >>>>>TEST DI SINI>>>>>>\n",
        "# gunakan BLOCK MAIN ini untuk mengetes\n",
        "if __name__ == '__main__':\n",
        "  # untuk pengetesan kode hanya boleh di bagian sini\n",
        "  # silakan test sesuka hati di sini\n",
        "  t1 = run()\n",
        "  print('titik1:',t1.ambiltitik())"
      ],
      "execution_count": 1,
      "outputs": [
        {
          "output_type": "stream",
          "text": [
            "2 4\n",
            "titik1: (2.0, 4.0)\n"
          ],
          "name": "stdout"
        }
      ]
    }
  ]
}
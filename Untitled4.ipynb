{
  "nbformat": 4,
  "nbformat_minor": 0,
  "metadata": {
    "colab": {
      "name": "Untitled4.ipynb",
      "provenance": [],
      "authorship_tag": "ABX9TyNKFC5TEWUqXyiE4yQBMp1d",
      "include_colab_link": true
    },
    "kernelspec": {
      "name": "python3",
      "display_name": "Python 3"
    }
  },
  "cells": [
    {
      "cell_type": "markdown",
      "metadata": {
        "id": "view-in-github",
        "colab_type": "text"
      },
      "source": [
        "<a href=\"https://colab.research.google.com/github/tasmilmks/Latihan-Python/blob/master/Untitled4.ipynb\" target=\"_parent\"><img src=\"https://colab.research.google.com/assets/colab-badge.svg\" alt=\"Open In Colab\"/></a>"
      ]
    },
    {
      "cell_type": "code",
      "metadata": {
        "id": "KFmxYIBiM6Xo",
        "colab_type": "code",
        "colab": {
          "base_uri": "https://localhost:8080/",
          "height": 85
        },
        "outputId": "7e56f191-b912-4f1e-dbf5-cfbc8d56978f"
      },
      "source": [
        "class titik2d:  \n",
        "  def __init__(self,x,y):\n",
        "    self.x=x\n",
        "    self.y=y\n",
        "  def ambiltitik(self):\n",
        "    return (self.x,self.y)\n",
        "    \n",
        "  def tambahkan(self,x,y):\n",
        "    self.x+=x\n",
        "    self.y+=y\n",
        "    return(self.x,self.y)\n",
        "    \n",
        "    \n",
        "  \n",
        "\n",
        "nilai1=int(input('Masukkan nilai x : '))\n",
        "nilai2=int(input('Masukkan nilai y : '))\n",
        "xa=titik2d(nilai1,nilai2)\n",
        "print(xa.ambiltitik())\n",
        "print(xa.tambahkan(2,2))\n"
      ],
      "execution_count": 65,
      "outputs": [
        {
          "output_type": "stream",
          "text": [
            "Masukkan nilai x : 2\n",
            "Masukkan nilai y : 4\n",
            "(2, 4)\n",
            "(4, 6)\n"
          ],
          "name": "stdout"
        }
      ]
    }
  ]
}
{
  "nbformat": 4,
  "nbformat_minor": 0,
  "metadata": {
    "colab": {
      "name": "Untitled4.ipynb",
      "provenance": [],
      "authorship_tag": "ABX9TyPSmD3+rFL8DWpI9O/Oxk3J",
      "include_colab_link": true
    },
    "kernelspec": {
      "name": "python3",
      "display_name": "Python 3"
    }
  },
  "cells": [
    {
      "cell_type": "markdown",
      "metadata": {
        "id": "view-in-github",
        "colab_type": "text"
      },
      "source": [
        "<a href=\"https://colab.research.google.com/github/tasmilmks/Latihan-Python/blob/master/Untitled4.ipynb\" target=\"_parent\"><img src=\"https://colab.research.google.com/assets/colab-badge.svg\" alt=\"Open In Colab\"/></a>"
      ]
    },
    {
      "cell_type": "code",
      "metadata": {
        "id": "KFmxYIBiM6Xo",
        "colab_type": "code",
        "colab": {
          "base_uri": "https://localhost:8080/",
          "height": 51
        },
        "outputId": "29dd761a-a5e1-430b-d561-ac6e43fe63a8"
      },
      "source": [
        "class titik2d:  \n",
        "  def __init__(self,x,y):\n",
        "    self.x=x\n",
        "    self.y=y\n",
        "  def ambiltitik(self):\n",
        "    return (self.x,self.y)\n",
        "  \n",
        "  \n",
        "  pass\n",
        "class titi2d(titik2d):\n",
        "  def __init__(self,x,y):\n",
        "    super().__init__(x,y)\n",
        "      \n",
        "  def tambahkan(self,titik):\n",
        "    self.x+=titik[0]\n",
        "    self.y+=titik[1]\n",
        "    return(self.x,self.y)\n",
        "  \n",
        "\n",
        "nilai1=int(input('Masukkan nilai x : '))\n",
        "nilai2=int(input('Masukkan nilai y : '))\n",
        "xa=titik2d(nilai1,nilai2)\n",
        "xa.ambiltitik()\n",
        "xy=titi2d(nilai1,nilai2)\n",
        "xy.tambahkan([4,5])"
      ],
      "execution_count": 58,
      "outputs": [
        {
          "output_type": "stream",
          "text": [
            "Masukkan nilai x : 4\n",
            "Masukkan nilai y : 5\n"
          ],
          "name": "stdout"
        }
      ]
    }
  ]
}
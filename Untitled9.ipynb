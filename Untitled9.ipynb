{
  "nbformat": 4,
  "nbformat_minor": 0,
  "metadata": {
    "colab": {
      "name": "Untitled9.ipynb",
      "provenance": [],
      "authorship_tag": "ABX9TyMfJB18XvAlXsKdAxc9JMpw",
      "include_colab_link": true
    },
    "kernelspec": {
      "name": "python3",
      "display_name": "Python 3"
    }
  },
  "cells": [
    {
      "cell_type": "markdown",
      "metadata": {
        "id": "view-in-github",
        "colab_type": "text"
      },
      "source": [
        "<a href=\"https://colab.research.google.com/github/tasmilmks/Latihan-Python/blob/master/Untitled9.ipynb\" target=\"_parent\"><img src=\"https://colab.research.google.com/assets/colab-badge.svg\" alt=\"Open In Colab\"/></a>"
      ]
    },
    {
      "cell_type": "code",
      "metadata": {
        "id": "gkjD0QXHm-w0",
        "colab_type": "code",
        "colab": {
          "base_uri": "https://localhost:8080/",
          "height": 102
        },
        "outputId": "f38ef202-6816-4e37-ccfd-859e89856a82"
      },
      "source": [
        "biodata={\"nama\":\"tasmil\",\"Alamat\":\"Makassar\",\"jkel\":\"Laki-Laki\"}\n",
        "print(biodata)\n",
        "biodata['nilai_kuis']=80\n",
        "print(biodata)\n",
        "biodata['nilai_kuis']=[70,75,90,80,75]\n",
        "print(biodata)\n",
        "tot_kuis=0\n",
        "jum=0\n",
        "for i in biodata[\"nilai_kuis\"]:\n",
        "  tot_kuis+=i\n",
        "  jum+=1\n",
        "rata_kuis=tot_kuis/jum\n",
        "print(\"Rata-rata nilai kuis adalah : \",rata_kuis)\n",
        "biodata['nilai_kuis']=rata_kuis\n",
        "print(biodata)\n"
      ],
      "execution_count": 17,
      "outputs": [
        {
          "output_type": "stream",
          "text": [
            "{'nama': 'tasmil', 'Alamat': 'Makassar', 'jkel': 'Laki-Laki'}\n",
            "{'nama': 'tasmil', 'Alamat': 'Makassar', 'jkel': 'Laki-Laki', 'nilai_kuis': 80}\n",
            "{'nama': 'tasmil', 'Alamat': 'Makassar', 'jkel': 'Laki-Laki', 'nilai_kuis': [70, 75, 90, 80, 75]}\n",
            "Rata-rata nilai kuis adalah :  78.0\n",
            "{'nama': 'tasmil', 'Alamat': 'Makassar', 'jkel': 'Laki-Laki', 'nilai_kuis': 78.0}\n"
          ],
          "name": "stdout"
        }
      ]
    }
  ]
}
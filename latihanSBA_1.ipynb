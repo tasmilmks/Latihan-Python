{
  "nbformat": 4,
  "nbformat_minor": 0,
  "metadata": {
    "colab": {
      "name": "latihanSBA-1.ipynb",
      "provenance": [],
      "authorship_tag": "ABX9TyPmUwRZsE6AiPLQjlIrDrLf",
      "include_colab_link": true
    },
    "kernelspec": {
      "name": "python3",
      "display_name": "Python 3"
    }
  },
  "cells": [
    {
      "cell_type": "markdown",
      "metadata": {
        "id": "view-in-github",
        "colab_type": "text"
      },
      "source": [
        "<a href=\"https://colab.research.google.com/github/tasmilmks/Latihan-Python/blob/master/latihanSBA_1.ipynb\" target=\"_parent\"><img src=\"https://colab.research.google.com/assets/colab-badge.svg\" alt=\"Open In Colab\"/></a>"
      ]
    },
    {
      "cell_type": "code",
      "metadata": {
        "id": "7uQXXVtAc_0o",
        "colab_type": "code",
        "colab": {
          "base_uri": "https://localhost:8080/",
          "height": 85
        },
        "outputId": "5c33efc8-7dd3-496e-8536-48e1107d740f"
      },
      "source": [
        "class Parrot:\n",
        "  species=\"Bird\"\n",
        "  def __init__(self,name,age):\n",
        "    self.name=name\n",
        "    self.age=age\n",
        "  \n",
        "  #instantiate the parrot class\n",
        "papi=Parrot(\"Papi\",3)\n",
        "greeny=Parrot(\"Greeny\",5)\n",
        "#acces the class atributes\n",
        "print(\"Papi is a \" + papi.species)\n",
        "print(\"Greeny is also \" + greeny.species)\n",
        "#access the instance atributes\n",
        "print(papi.name + \" is \"+ str(papi.age)+\"years old\")\n",
        "print(greeny.name + \" is \" + str(greeny.age)+\"years old\")\n",
        "\n"
      ],
      "execution_count": 7,
      "outputs": [
        {
          "output_type": "stream",
          "text": [
            "Papi is a Bird\n",
            "Greeny is also Bird\n",
            "Papi is 3years old\n",
            "Greeny is 5years old\n"
          ],
          "name": "stdout"
        }
      ]
    }
  ]
}
{
  "nbformat": 4,
  "nbformat_minor": 0,
  "metadata": {
    "colab": {
      "name": "modul2.ipynb",
      "provenance": [],
      "collapsed_sections": [],
      "authorship_tag": "ABX9TyMpcxzP2QlJkZWwRrkf6ZPf",
      "include_colab_link": true
    },
    "kernelspec": {
      "name": "python3",
      "display_name": "Python 3"
    }
  },
  "cells": [
    {
      "cell_type": "markdown",
      "metadata": {
        "id": "view-in-github",
        "colab_type": "text"
      },
      "source": [
        "<a href=\"https://colab.research.google.com/github/tasmilmks/Latihan-Python/blob/master/modul2.ipynb\" target=\"_parent\"><img src=\"https://colab.research.google.com/assets/colab-badge.svg\" alt=\"Open In Colab\"/></a>"
      ]
    },
    {
      "cell_type": "code",
      "metadata": {
        "id": "4CS665s43-Vp",
        "colab_type": "code",
        "colab": {
          "base_uri": "https://localhost:8080/",
          "height": 34
        },
        "outputId": "953b582f-1943-4316-8a86-311a4b749f80"
      },
      "source": [
        "print(\"Programming\", end=\"***\")\n",
        "print(\"Essentials\",\"in\",sep=\"***\", end=\"***\")\n",
        "print(\"Python\",sep=\"...\")"
      ],
      "execution_count": null,
      "outputs": [
        {
          "output_type": "stream",
          "text": [
            "Programming***Essentials***in***Python\n"
          ],
          "name": "stdout"
        }
      ]
    },
    {
      "cell_type": "markdown",
      "metadata": {
        "id": "UZ0XLH5r55Eq",
        "colab_type": "text"
      },
      "source": [
        ""
      ]
    },
    {
      "cell_type": "code",
      "metadata": {
        "id": "TQmGsBQD7oJo",
        "colab_type": "code",
        "colab": {
          "base_uri": "https://localhost:8080/",
          "height": 119
        },
        "outputId": "5bcea1b2-6627-4d97-abc6-970a6ce2e2e9"
      },
      "source": [
        "print(\"*\\n\\n\")\n",
        "print(\"    *\\n\"*2)"
      ],
      "execution_count": null,
      "outputs": [
        {
          "output_type": "stream",
          "text": [
            "*\n",
            "\n",
            "\n",
            "    *\n",
            "    *\n",
            "\n"
          ],
          "name": "stdout"
        }
      ]
    },
    {
      "cell_type": "code",
      "metadata": {
        "id": "NUrRL2OK8KFJ",
        "colab_type": "code",
        "colab": {
          "base_uri": "https://localhost:8080/",
          "height": 85
        },
        "outputId": "37b5c631-3d6c-464a-fb43-528ef9307196"
      },
      "source": [
        "print(\"*\\n\"*2)\n",
        "print(\"***\",end=\"'''\")"
      ],
      "execution_count": null,
      "outputs": [
        {
          "output_type": "stream",
          "text": [
            "*\n",
            "*\n",
            "\n",
            "***'''"
          ],
          "name": "stdout"
        }
      ]
    },
    {
      "cell_type": "code",
      "metadata": {
        "id": "MDf8TnV2-LbO",
        "colab_type": "code",
        "colab": {
          "base_uri": "https://localhost:8080/",
          "height": 34
        },
        "outputId": "cf6acf24-a91c-4c22-fb3d-c89b4086c13b"
      },
      "source": [
        "print (10_000_000)"
      ],
      "execution_count": null,
      "outputs": [
        {
          "output_type": "stream",
          "text": [
            "10000000\n"
          ],
          "name": "stdout"
        }
      ]
    },
    {
      "cell_type": "code",
      "metadata": {
        "id": "nHafNZhK_CvU",
        "colab_type": "code",
        "colab": {
          "base_uri": "https://localhost:8080/",
          "height": 68
        },
        "outputId": "6eed02cd-dd8d-4225-b3fe-d80b084fcd1c"
      },
      "source": [
        "print('\"I\\'m\"\\n\"\"Learning\"\"\\n\"\"\"Python\"\"\"')"
      ],
      "execution_count": null,
      "outputs": [
        {
          "output_type": "stream",
          "text": [
            "\"I'm\"\n",
            "\"\"Learning\"\"\n",
            "\"\"\"Python\"\"\"\n"
          ],
          "name": "stdout"
        }
      ]
    },
    {
      "cell_type": "code",
      "metadata": {
        "id": "OXxK0GrLBa-X",
        "colab_type": "code",
        "colab": {
          "base_uri": "https://localhost:8080/",
          "height": 34
        },
        "outputId": "0fda96cb-c5bf-4d54-c836-0dcdda124f0c"
      },
      "source": [
        "21.538461538461537 //2"
      ],
      "execution_count": null,
      "outputs": [
        {
          "output_type": "execute_result",
          "data": {
            "text/plain": [
              "10.0"
            ]
          },
          "metadata": {
            "tags": []
          },
          "execution_count": 37
        }
      ]
    },
    {
      "cell_type": "code",
      "metadata": {
        "id": "ZMYIJzjdD1dD",
        "colab_type": "code",
        "colab": {
          "base_uri": "https://localhost:8080/",
          "height": 34
        },
        "outputId": "3d907c0a-24ba-4f28-ab6d-844bd5761cb4"
      },
      "source": [
        "print((2 ** 4), (2 * 4.), (2 * 4))"
      ],
      "execution_count": null,
      "outputs": [
        {
          "output_type": "stream",
          "text": [
            "16 8.0 8\n"
          ],
          "name": "stdout"
        }
      ]
    },
    {
      "cell_type": "code",
      "metadata": {
        "id": "MZfcb8xYD5FZ",
        "colab_type": "code",
        "colab": {
          "base_uri": "https://localhost:8080/",
          "height": 34
        },
        "outputId": "bf17348b-b537-46f0-b65e-9703c74fe5da"
      },
      "source": [
        "print((-2 / 4), (2 / 4), (2 // 4), (-2 // 4))"
      ],
      "execution_count": null,
      "outputs": [
        {
          "output_type": "stream",
          "text": [
            "-0.5 0.5 0 -1\n"
          ],
          "name": "stdout"
        }
      ]
    },
    {
      "cell_type": "code",
      "metadata": {
        "id": "DLvYhJ9WFG1A",
        "colab_type": "code",
        "colab": {}
      },
      "source": [
        ""
      ],
      "execution_count": null,
      "outputs": []
    },
    {
      "cell_type": "code",
      "metadata": {
        "id": "l8TJJC0V15Nm",
        "colab_type": "code",
        "colab": {
          "base_uri": "https://localhost:8080/",
          "height": 34
        },
        "outputId": "63dcc8cf-ad9a-4bfd-cab5-509cf4e10af2"
      },
      "source": [
        "a = 3.0\n",
        "b = 4.0\n",
        "c = (a ** 2 + b ** 2) ** 0.5\n",
        "print(\"c =\", c)"
      ],
      "execution_count": null,
      "outputs": [
        {
          "output_type": "stream",
          "text": [
            "c = 5.0\n"
          ],
          "name": "stdout"
        }
      ]
    },
    {
      "cell_type": "code",
      "metadata": {
        "id": "YnVj74dxFb70",
        "colab_type": "code",
        "colab": {
          "base_uri": "https://localhost:8080/",
          "height": 85
        },
        "outputId": "9291012a-5777-4b12-8267-0e8e3d3192ba"
      },
      "source": [
        "Guntur=3\n",
        "Icha=5\n",
        "Ratna=6\n",
        "print(\"Guntur = \",Guntur)\n",
        "print(\"Icha = \",Icha)\n",
        "print(\"Ratna = \",Ratna)\n",
        "totalApel=Guntur+Icha+Ratna\n",
        "print(\"Total apel Guntur, Icha dan Ratna Adalah : \",totalApel)"
      ],
      "execution_count": null,
      "outputs": [
        {
          "output_type": "stream",
          "text": [
            "Guntur =  3\n",
            "Icha =  5\n",
            "Ratna =  6\n",
            "Total apel Guntur, Icha dan Ratna Adalah :  14\n"
          ],
          "name": "stdout"
        }
      ]
    },
    {
      "cell_type": "code",
      "metadata": {
        "id": "SwAh7joiIULX",
        "colab_type": "code",
        "colab": {
          "base_uri": "https://localhost:8080/",
          "height": 51
        },
        "outputId": "47b6bea4-5ae4-490d-9d54-8f29f19bc211"
      },
      "source": [
        "kilometer = 12.25\n",
        "mil = 7.61\n",
        "\n",
        "mil_ke_kilometer = mil * 1.61\n",
        "kilometer_ke_mil = kilometer / 1.61\n",
        "\n",
        "print(mil, \"mil adalah\", round(mil_ke_kilometer, 2), \"kilometer\")\n",
        "print(kilometer, \"kilometer adalah\", round(kilometer_ke_mil, 2), \"mil\")"
      ],
      "execution_count": null,
      "outputs": [
        {
          "output_type": "stream",
          "text": [
            "7.61 mil adalah 12.25 kilometer\n",
            "12.25 kilometer adalah 7.61 mil\n"
          ],
          "name": "stdout"
        }
      ]
    },
    {
      "cell_type": "code",
      "metadata": {
        "id": "pN-e1G6DI5ah",
        "colab_type": "code",
        "colab": {
          "base_uri": "https://localhost:8080/",
          "height": 34
        },
        "outputId": "e97989b3-944a-44ec-d764-df58b1a5e199"
      },
      "source": [
        "x =2.5  # hardcode your test data here\n",
        "x = float(x)\n",
        "y=3*x**3-2*x**2+3*x-1\n",
        "print(\"y =\", y)"
      ],
      "execution_count": null,
      "outputs": [
        {
          "output_type": "stream",
          "text": [
            "y = 40.875\n"
          ],
          "name": "stdout"
        }
      ]
    },
    {
      "cell_type": "code",
      "metadata": {
        "id": "zi09AsJcKM6l",
        "colab_type": "code",
        "colab": {
          "base_uri": "https://localhost:8080/",
          "height": 34
        },
        "outputId": "d9e2e7d7-9e5a-4900-8b4c-c81730660bbf"
      },
      "source": [
        "var = 2\n",
        "var = 3\n",
        "print(var)"
      ],
      "execution_count": null,
      "outputs": [
        {
          "output_type": "stream",
          "text": [
            "3\n"
          ],
          "name": "stdout"
        }
      ]
    },
    {
      "cell_type": "code",
      "metadata": {
        "id": "GYIsm5YMKVC7",
        "colab_type": "code",
        "colab": {
          "base_uri": "https://localhost:8080/",
          "height": 34
        },
        "outputId": "1d6b7737-9cde-4872-de1f-0f601782be4e"
      },
      "source": [
        "\n",
        "a = '1'\n",
        "b = \"1\"\n",
        "print(a + b)"
      ],
      "execution_count": null,
      "outputs": [
        {
          "output_type": "stream",
          "text": [
            "11\n"
          ],
          "name": "stdout"
        }
      ]
    },
    {
      "cell_type": "code",
      "metadata": {
        "id": "7ovc-FntK2pL",
        "colab_type": "code",
        "colab": {
          "base_uri": "https://localhost:8080/",
          "height": 34
        },
        "outputId": "32ac132e-b529-4576-b792-5d9a155cb0c3"
      },
      "source": [
        "a = 6\n",
        "b = 3\n",
        "a /= 2 * b\n",
        "print(a)"
      ],
      "execution_count": null,
      "outputs": [
        {
          "output_type": "stream",
          "text": [
            "1.0\n"
          ],
          "name": "stdout"
        }
      ]
    },
    {
      "cell_type": "code",
      "metadata": {
        "id": "l88K5xFiMSR1",
        "colab_type": "code",
        "colab": {}
      },
      "source": [
        ""
      ],
      "execution_count": null,
      "outputs": []
    },
    {
      "cell_type": "code",
      "metadata": {
        "colab_type": "code",
        "id": "vCeikfTuMX16",
        "colab": {
          "base_uri": "https://localhost:8080/",
          "height": 51
        },
        "outputId": "03e3c783-2257-4c4c-f1fd-4e113fcbea08"
      },
      "source": [
        "angka = float(input(\"Masukkan Angka...\"))\n",
        "print(\"Pangkat duanya adalah\", angka**2)\n"
      ],
      "execution_count": null,
      "outputs": [
        {
          "output_type": "stream",
          "text": [
            "Masukkan Angka...3\n",
            "Pangkat duanya adalah 9.0\n"
          ],
          "name": "stdout"
        }
      ]
    },
    {
      "cell_type": "code",
      "metadata": {
        "id": "Ps7uU-k7Mdfh",
        "colab_type": "code",
        "colab": {}
      },
      "source": [
        ""
      ],
      "execution_count": null,
      "outputs": []
    },
    {
      "cell_type": "code",
      "metadata": {
        "id": "JDfKqrLy15PL",
        "colab_type": "code",
        "colab": {
          "base_uri": "https://localhost:8080/",
          "height": 68
        },
        "outputId": "45be12c1-7e90-4405-a07e-962d55e520d2"
      },
      "source": [
        "leg_a = float(input(\"Input first leg length: \"))\n",
        "leg_b = float(input(\"Input second leg length: \"))\n",
        "hypo = (leg_a**2 + leg_b**2) ** .5\n",
        "print(\"Hypotenuse length is\", hypo)\n"
      ],
      "execution_count": null,
      "outputs": [
        {
          "output_type": "stream",
          "text": [
            "Input first leg length: 2.5\n",
            "Input second leg length: 3.2\n",
            "Hypotenuse length is 4.060788100849391\n"
          ],
          "name": "stdout"
        }
      ]
    },
    {
      "cell_type": "code",
      "metadata": {
        "id": "7Zp_q3AFM_hI",
        "colab_type": "code",
        "colab": {}
      },
      "source": [
        "fnam = input(\"May I have your first name, please? \")\n",
        "lnam = input(\"May I have your last name, please? \")\n",
        "print(\"Thank you.\")\n",
        "print(\"\\nYour name is \" + fnam + \" \" + lnam + \".\")"
      ],
      "execution_count": null,
      "outputs": []
    },
    {
      "cell_type": "code",
      "metadata": {
        "id": "JSVGnMGLNyHa",
        "colab_type": "code",
        "colab": {
          "base_uri": "https://localhost:8080/",
          "height": 136
        },
        "outputId": "8c54baa3-8418-404d-f4cc-b4d0d056d6f0"
      },
      "source": [
        "print(\"+\"+10* \"-\"+\"+\")\n",
        "print((\"|\"+10 *\" \"+\"|\\n\")*5,end=\"\")\n",
        "print(\"+\"+10* \"-\"+\"+\")"
      ],
      "execution_count": null,
      "outputs": [
        {
          "output_type": "stream",
          "text": [
            "+----------+\n",
            "|          |\n",
            "|          |\n",
            "|          |\n",
            "|          |\n",
            "|          |\n",
            "+----------+\n"
          ],
          "name": "stdout"
        }
      ]
    },
    {
      "cell_type": "code",
      "metadata": {
        "id": "-OgzoKdMQEhB",
        "colab_type": "code",
        "colab": {}
      },
      "source": [
        "leg_a = float(input(\"Input first leg length: \"))\n",
        "leg_b = float(input(\"Input second leg length: \"))\n",
        "print(\"Hypotenuse length is \" + str((leg_a**2 + leg_b**2) ** .5))"
      ],
      "execution_count": null,
      "outputs": []
    },
    {
      "cell_type": "code",
      "metadata": {
        "id": "Q2R9Eod5QlJd",
        "colab_type": "code",
        "colab": {
          "base_uri": "https://localhost:8080/",
          "height": 51
        },
        "outputId": "6cdb8f95-89a2-4eed-da30-eb2cc5214eee"
      },
      "source": [
        "x = float(input(\"Enter value for x: \"))\n",
        "y = 1/(x+1/(x+1/(x+1/x)))\n",
        "\n",
        "print(\"y =\", y)"
      ],
      "execution_count": null,
      "outputs": [
        {
          "output_type": "stream",
          "text": [
            "Enter value for x: 6.3\n",
            "y = 0.15492052129625572\n"
          ],
          "name": "stdout"
        }
      ]
    },
    {
      "cell_type": "code",
      "metadata": {
        "id": "UERhIwbdQ-l_",
        "colab_type": "code",
        "colab": {
          "base_uri": "https://localhost:8080/",
          "height": 85
        },
        "outputId": "c05ca334-a4cd-4040-8ddc-7ba0db601764"
      },
      "source": [
        "jam = int(input(\"waktu mulai (jam): \"))\n",
        "menit = int(input(\"waktu mulai (menit): \"))\n",
        "durasi= int(input(\"durasi kegiatan (minutes): \"))\n",
        "t_menit=menit+durasi\n",
        "t_jam=int(t_menit/60)\n",
        "jam+=t_jam\n",
        "menit=t_menit%60\n",
        "print(str(jam)+\":\"+str(menit))"
      ],
      "execution_count": null,
      "outputs": [
        {
          "output_type": "stream",
          "text": [
            "waktu mulai (jam): 12\n",
            "waktu mulai (menit): 40\n",
            "durasi kegiatan (minutes): 45\n",
            "13:25\n"
          ],
          "name": "stdout"
        }
      ]
    },
    {
      "cell_type": "code",
      "metadata": {
        "id": "K-X_e35hUxw_",
        "colab_type": "code",
        "colab": {
          "base_uri": "https://localhost:8080/",
          "height": 34
        },
        "outputId": "d77c13ab-8078-4063-a581-34f03c3fed5f"
      },
      "source": [
        "85%60"
      ],
      "execution_count": null,
      "outputs": [
        {
          "output_type": "execute_result",
          "data": {
            "text/plain": [
              "25"
            ]
          },
          "metadata": {
            "tags": []
          },
          "execution_count": 78
        }
      ]
    },
    {
      "cell_type": "code",
      "metadata": {
        "id": "AAGiLWbV15O7",
        "colab_type": "code",
        "colab": {
          "base_uri": "https://localhost:8080/",
          "height": 51
        },
        "outputId": "d5ef3a80-87e0-472b-cc67-0b043f1ea41c"
      },
      "source": [
        "angka = float(input(\"Masukkan Angka...\"))\n",
        "print(\"Pangkat duanya adalah\", angka**2)\n"
      ],
      "execution_count": null,
      "outputs": [
        {
          "output_type": "stream",
          "text": [
            "Masukkan Angka...4\n",
            "Pangkat duanya adalah 16.0\n"
          ],
          "name": "stdout"
        }
      ]
    },
    {
      "cell_type": "markdown",
      "metadata": {
        "id": "zfDdhhy45WhD",
        "colab_type": "text"
      },
      "source": [
        ""
      ]
    },
    {
      "cell_type": "code",
      "metadata": {
        "id": "ArLTMV25dyEt",
        "colab_type": "code",
        "colab": {
          "base_uri": "https://localhost:8080/",
          "height": 34
        },
        "outputId": "7c6c4801-5df5-4ffd-b26c-ad180c088c3a"
      },
      "source": [
        "123/7"
      ],
      "execution_count": null,
      "outputs": [
        {
          "output_type": "execute_result",
          "data": {
            "text/plain": [
              "17.571428571428573"
            ]
          },
          "metadata": {
            "tags": []
          },
          "execution_count": 5
        }
      ]
    },
    {
      "cell_type": "code",
      "metadata": {
        "id": "HBlfse9lnpek",
        "colab_type": "code",
        "colab": {
          "base_uri": "https://localhost:8080/",
          "height": 34
        },
        "outputId": "3ed39cd1-3b25-4f89-be71-14b69ae8b4c4"
      },
      "source": [
        "z=y\n",
        "x=1\n",
        "print(x,y,z,sep=\"*\")"
      ],
      "execution_count": null,
      "outputs": [
        {
          "output_type": "stream",
          "text": [
            "1*8.0*8.0\n"
          ],
          "name": "stdout"
        }
      ]
    },
    {
      "cell_type": "code",
      "metadata": {
        "id": "LNWDQ9AcEhb8",
        "colab_type": "code",
        "colab": {
          "base_uri": "https://localhost:8080/",
          "height": 68
        },
        "outputId": "44d3a968-7989-43b6-f90e-6fd10106ef1a"
      },
      "source": [
        "x=int(input())\n",
        "y=int(input())\n",
        "x=x%y\n",
        "x=x%y\n",
        "y=y%x\n",
        "print(y)"
      ],
      "execution_count": null,
      "outputs": [
        {
          "output_type": "stream",
          "text": [
            "11\n",
            "4\n",
            "1\n"
          ],
          "name": "stdout"
        }
      ]
    },
    {
      "cell_type": "code",
      "metadata": {
        "id": "16VV5RxaE7Uf",
        "colab_type": "code",
        "colab": {
          "base_uri": "https://localhost:8080/",
          "height": 68
        },
        "outputId": "9bc4512d-83ad-478f-8773-f8498ff64949"
      },
      "source": [
        "x=int(input())\n",
        "y=int(input())\n",
        "x=x/y\n",
        "y=y/x\n",
        "print(y)"
      ],
      "execution_count": null,
      "outputs": [
        {
          "output_type": "stream",
          "text": [
            "2\n",
            "4\n",
            "8.0\n"
          ],
          "name": "stdout"
        }
      ]
    },
    {
      "cell_type": "code",
      "metadata": {
        "id": "lSVa_ijTLkW9",
        "colab_type": "code",
        "colab": {
          "base_uri": "https://localhost:8080/",
          "height": 34
        },
        "outputId": "c9d316c8-d998-432a-c426-eb03b49c7f3a"
      },
      "source": [
        "1//2*3"
      ],
      "execution_count": null,
      "outputs": [
        {
          "output_type": "execute_result",
          "data": {
            "text/plain": [
              "0"
            ]
          },
          "metadata": {
            "tags": []
          },
          "execution_count": 40
        }
      ]
    },
    {
      "cell_type": "code",
      "metadata": {
        "id": "4ExHob42uWQQ",
        "colab_type": "code",
        "colab": {
          "base_uri": "https://localhost:8080/",
          "height": 130
        },
        "outputId": "071c821f-cabf-4d9c-af18-1ba43a104a24"
      },
      "source": [
        "z=y x=1\n",
        "print(x,y,z,sep=\"*\")"
      ],
      "execution_count": null,
      "outputs": [
        {
          "output_type": "error",
          "ename": "SyntaxError",
          "evalue": "ignored",
          "traceback": [
            "\u001b[0;36m  File \u001b[0;32m\"<ipython-input-17-cea72875c8f9>\"\u001b[0;36m, line \u001b[0;32m1\u001b[0m\n\u001b[0;31m    z=y x=1\u001b[0m\n\u001b[0m        ^\u001b[0m\n\u001b[0;31mSyntaxError\u001b[0m\u001b[0;31m:\u001b[0m invalid syntax\n"
          ]
        }
      ]
    },
    {
      "cell_type": "code",
      "metadata": {
        "id": "OWdF0qDPvbK_",
        "colab_type": "code",
        "colab": {
          "base_uri": "https://localhost:8080/",
          "height": 34
        },
        "outputId": "b8185e21-7921-47c7-c4eb-f617a66fae69"
      },
      "source": [
        "print()"
      ],
      "execution_count": null,
      "outputs": [
        {
          "output_type": "stream",
          "text": [
            "\n"
          ],
          "name": "stdout"
        }
      ]
    },
    {
      "cell_type": "code",
      "metadata": {
        "id": "BZNvJFLepXfD",
        "colab_type": "code",
        "colab": {
          "base_uri": "https://localhost:8080/",
          "height": 34
        },
        "outputId": "e4b70fc7-da27-4647-c409-41caaba97b64"
      },
      "source": [
        "1//2*3"
      ],
      "execution_count": null,
      "outputs": [
        {
          "output_type": "execute_result",
          "data": {
            "text/plain": [
              "0"
            ]
          },
          "metadata": {
            "tags": []
          },
          "execution_count": 12
        }
      ]
    },
    {
      "cell_type": "code",
      "metadata": {
        "id": "IKkQt0mZpgzy",
        "colab_type": "code",
        "colab": {
          "base_uri": "https://localhost:8080/",
          "height": 34
        },
        "outputId": "17695cc4-65be-441a-f385-8473b4ac4d9a"
      },
      "source": [
        "z=y\n",
        "x=1\n",
        "print(x,y,z,sep=\"*\")\n"
      ],
      "execution_count": null,
      "outputs": [
        {
          "output_type": "stream",
          "text": [
            "1*8.0*8.0\n"
          ],
          "name": "stdout"
        }
      ]
    },
    {
      "cell_type": "code",
      "metadata": {
        "id": "JKYFBDPdqTym",
        "colab_type": "code",
        "colab": {}
      },
      "source": [
        ""
      ],
      "execution_count": null,
      "outputs": []
    },
    {
      "cell_type": "code",
      "metadata": {
        "id": "jlVj4eA0oo5L",
        "colab_type": "code",
        "colab": {
          "base_uri": "https://localhost:8080/",
          "height": 34
        },
        "outputId": "b2f27849-6248-49cb-ccf6-23ff1d00ea32"
      },
      "source": [
        "1/2+3//3+4**2"
      ],
      "execution_count": null,
      "outputs": [
        {
          "output_type": "execute_result",
          "data": {
            "text/plain": [
              "17.5"
            ]
          },
          "metadata": {
            "tags": []
          },
          "execution_count": 10
        }
      ]
    },
    {
      "cell_type": "code",
      "metadata": {
        "id": "6rkID4PtoQlc",
        "colab_type": "code",
        "colab": {
          "base_uri": "https://localhost:8080/",
          "height": 34
        },
        "outputId": "2456706b-4c50-4079-d45b-b6925f95bc35"
      },
      "source": [
        "1/1"
      ],
      "execution_count": null,
      "outputs": [
        {
          "output_type": "execute_result",
          "data": {
            "text/plain": [
              "1.0"
            ]
          },
          "metadata": {
            "tags": []
          },
          "execution_count": 7
        }
      ]
    }
  ]
}
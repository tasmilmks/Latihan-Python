{
  "nbformat": 4,
  "nbformat_minor": 0,
  "metadata": {
    "colab": {
      "name": "LatihanSBA.ipynb",
      "provenance": [],
      "collapsed_sections": [],
      "include_colab_link": true
    },
    "kernelspec": {
      "name": "python3",
      "display_name": "Python 3"
    }
  },
  "cells": [
    {
      "cell_type": "markdown",
      "metadata": {
        "id": "view-in-github",
        "colab_type": "text"
      },
      "source": [
        "<a href=\"https://colab.research.google.com/github/tasmilmks/Latihan-Python/blob/master/LatihanSBA.ipynb\" target=\"_parent\"><img src=\"https://colab.research.google.com/assets/colab-badge.svg\" alt=\"Open In Colab\"/></a>"
      ]
    },
    {
      "cell_type": "markdown",
      "metadata": {
        "id": "3ATJc_nuZqbb",
        "colab_type": "text"
      },
      "source": [
        "# Cara simpan\n",
        "> klik `file` -> `Download .py`\n",
        "## kemudian upload ke netacad di soal anda. "
      ]
    },
    {
      "cell_type": "code",
      "metadata": {
        "id": "0KtLA3IxXwIR",
        "colab_type": "code",
        "colab": {
          "base_uri": "https://localhost:8080/",
          "height": 51
        },
        "outputId": "4114a4c0-07fb-4111-f7db-91bfefab3abe"
      },
      "source": [
        "'''\n",
        "namafile: latihanSBA.py\n",
        "Lembar kerja/script Latihan SBA\n",
        "'''\n",
        "# >>>>>>LEMBAR KERJA>>>>>>>>>\n",
        "# lembar ini hanya berisi pendefinisian fungsi dan class saja\n",
        "\n",
        "#email netacad, JANGAN SAMPAI LUPA >>>>>>><<<<<<<\n",
        "email = 'tasmil@kominfo.go.id'\n",
        "\n",
        "#soal 1\n",
        "class titik2d:\n",
        "  def __init__(self,x,y):\n",
        "    self.x=x\n",
        "    self.y=y\n",
        "  def ambiltitik(self):\n",
        "    return self.x,self.y\n",
        "  \n",
        "  def tambahkan(self,titik):\n",
        "    self.x+=titik.x\n",
        "    self.y+=titik.y\n",
        "\n",
        "# soal 2\n",
        "\n",
        "def run():\n",
        "  nilai=list(map(float,input().split()))\n",
        "  return titik2d(*nilai)\n",
        "\n",
        "# >>>>>>AKHIR LEMBAR KERJA>>>>>>>>>\n",
        "\n",
        "\n",
        "if __name__ == '__main__':\n",
        "  # >>>>>TEST DI SINI>>>>>>\n",
        "  # gunakan BLOCK MAIN ini untuk mengetes\n",
        "\n",
        "  # untuk pengetesan kode hanya boleh di bagian sini\n",
        "  # silakan test sesuka hati di sini\n",
        "  \n",
        "  t1 = run()\n",
        "  \n",
        "  print('titik1:',t1.ambiltitik())\n",
        " \n",
        "\n",
        "  # >>>>>AKHIR TEST DI SINI>>>>>>\n"
      ],
      "execution_count": 25,
      "outputs": [
        {
          "output_type": "stream",
          "text": [
            "3 4\n",
            "titik1: (3.0, 4.0)\n"
          ],
          "name": "stdout"
        }
      ]
    },
    {
      "cell_type": "code",
      "metadata": {
        "id": "Bpfai3R6HrJq",
        "colab_type": "code",
        "colab": {}
      },
      "source": [
        ""
      ],
      "execution_count": null,
      "outputs": []
    }
  ]
}
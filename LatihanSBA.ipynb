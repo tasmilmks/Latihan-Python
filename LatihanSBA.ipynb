{
  "nbformat": 4,
  "nbformat_minor": 0,
  "metadata": {
    "colab": {
      "name": "LatihanSBA.ipynb",
      "provenance": [],
      "collapsed_sections": [],
      "include_colab_link": true
    },
    "kernelspec": {
      "name": "python3",
      "display_name": "Python 3"
    }
  },
  "cells": [
    {
      "cell_type": "markdown",
      "metadata": {
        "id": "view-in-github",
        "colab_type": "text"
      },
      "source": [
        "<a href=\"https://colab.research.google.com/github/tasmilmks/Latihan-Python/blob/master/LatihanSBA.ipynb\" target=\"_parent\"><img src=\"https://colab.research.google.com/assets/colab-badge.svg\" alt=\"Open In Colab\"/></a>"
      ]
    },
    {
      "cell_type": "markdown",
      "metadata": {
        "id": "3ATJc_nuZqbb",
        "colab_type": "text"
      },
      "source": [
        "# Cara simpan\n",
        "> klik `file` -> `Download .py`\n",
        "## kemudian upload ke netacad di soal anda. "
      ]
    },
    {
      "cell_type": "code",
      "metadata": {
        "id": "0KtLA3IxXwIR",
        "colab_type": "code",
        "colab": {
          "base_uri": "https://localhost:8080/",
          "height": 51
        },
        "outputId": "6e15b73f-ae55-49cf-c243-980f41553093"
      },
      "source": [
        "'''\n",
        "namafile: latihanSBA.py\n",
        "Lembar kerja/script Latihan SBA\n",
        "'''\n",
        "# >>>>>>LEMBAR KERJA>>>>>>>>>\n",
        "# lembar ini hanya berisi pendefinisian fungsi dan class saja\n",
        "\n",
        "#email netacad, JANGAN SAMPAI LUPA >>>>>>><<<<<<<\n",
        "email = 'tasmil@kominfo.go.id'\n",
        "\n",
        "#soal 1\n",
        "class titik2d:  \n",
        "  def __init__(self,x,y):\n",
        "    self.x=x\n",
        "    self.y=y\n",
        "  def ambiltitik(self):\n",
        "    return (self.x,self.y)\n",
        "  \n",
        "  def tambahkan(self,titik):\n",
        "    ntitik=titik.split()\n",
        "    self.x=self.x+float(ntitik[0])\n",
        "    self.y=self.y+float(ntitik[1])\n",
        "    # pass\n",
        "\n",
        "titik1=titik2d(2,4)\n",
        "\n",
        "    \n",
        "# soal 2\n",
        "def run():\n",
        "  nilai=input('Masukkan Dua Buah Nilai : ')\n",
        "  return titik1.tambahkan(nilai)\n",
        "\n",
        "# >>>>>>AKHIR LEMBAR KERJA>>>>>>>>>\n",
        "\n",
        "\n",
        "\n",
        "if __name__ == '__main__':\n",
        "  # >>>>>TEST DI SINI>>>>>>\n",
        "  # gunakan BLOCK MAIN ini untuk mengetes\n",
        "\n",
        "  # untuk pengetesan kode hanya boleh di bagian sini\n",
        "  # silakan test sesuka hati di sini\n",
        " \n",
        "  t1 = run()\n",
        "  \n",
        "  print('titik1:',titik1.ambiltitik())\n",
        "\n",
        "  # >>>>>AKHIR TEST DI SINI>>>>>>\n"
      ],
      "execution_count": 2,
      "outputs": [
        {
          "output_type": "stream",
          "text": [
            "Masukkan Dua Buah Nilai : 4 7\n",
            "titik1: (6.0, 11.0)\n"
          ],
          "name": "stdout"
        }
      ]
    },
    {
      "cell_type": "code",
      "metadata": {
        "id": "Bpfai3R6HrJq",
        "colab_type": "code",
        "colab": {}
      },
      "source": [
        ""
      ],
      "execution_count": null,
      "outputs": []
    }
  ]
}
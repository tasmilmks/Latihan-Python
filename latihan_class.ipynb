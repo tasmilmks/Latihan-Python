{
  "nbformat": 4,
  "nbformat_minor": 0,
  "metadata": {
    "colab": {
      "name": "latihan_class.ipynb",
      "provenance": [],
      "collapsed_sections": [],
      "authorship_tag": "ABX9TyMixeoEiE9FMpMHqKpXqZFy",
      "include_colab_link": true
    },
    "kernelspec": {
      "name": "python3",
      "display_name": "Python 3"
    }
  },
  "cells": [
    {
      "cell_type": "markdown",
      "metadata": {
        "id": "view-in-github",
        "colab_type": "text"
      },
      "source": [
        "<a href=\"https://colab.research.google.com/github/tasmilmks/Latihan-Python/blob/master/latihan_class.ipynb\" target=\"_parent\"><img src=\"https://colab.research.google.com/assets/colab-badge.svg\" alt=\"Open In Colab\"/></a>"
      ]
    },
    {
      "cell_type": "code",
      "metadata": {
        "id": "n7UYu_V-3F5m",
        "colab_type": "code",
        "colab": {
          "base_uri": "https://localhost:8080/",
          "height": 68
        },
        "outputId": "dcd213d6-2904-49f7-e7cd-326652c75950"
      },
      "source": [
        "class tumbuhan:\n",
        "  def __init__(self,nama):\n",
        "    self.nama=nama\n",
        "\n",
        "  def ciri(self):\n",
        "    print(self.nama,\"tumbuhan liar bro..\")\n",
        "\n",
        "class akar_tunggang(tumbuhan):\n",
        "  def __init__(self,nama,jenis):\n",
        "    super().__init__(nama)\n",
        "    self.jenis=jenis\n",
        "\n",
        "  def ciri(self):\n",
        "    print(self.nama,\"masuk dalam kategori \", self.jenis)\n",
        "\n",
        "class akar_serabut(tumbuhan):\n",
        "  def __init__(self,nama,akar):\n",
        "    super().__init__(nama)\n",
        "    self.akar=akar\n",
        "  def ciri(self):\n",
        "    print(self.nama, \"pada umunya\",self.akar)\n",
        "\n",
        "a=tumbuhan(\"pisang\")\n",
        "b=akar_tunggang(\"rambutan\",\"akar tunggang lho..\")\n",
        "c=akar_serabut(\"pisang\",\"akarnya pendek-pendek\")\n",
        "a.ciri()\n",
        "b.ciri()\n",
        "c.ciri()"
      ],
      "execution_count": 8,
      "outputs": [
        {
          "output_type": "stream",
          "text": [
            "pisang tumbuhan liar bro..\n",
            "rambutan masuk dalam kategori  akar tunggang lho..\n",
            "pisang pada umunya akarnya pendek-pendek\n"
          ],
          "name": "stdout"
        }
      ]
    }
  ]
}
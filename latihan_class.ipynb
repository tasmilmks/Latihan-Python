{
  "nbformat": 4,
  "nbformat_minor": 0,
  "metadata": {
    "colab": {
      "name": "latihan_class.ipynb",
      "provenance": [],
      "collapsed_sections": [],
      "authorship_tag": "ABX9TyN64dwE6hefxzgdGN5qy9yy",
      "include_colab_link": true
    },
    "kernelspec": {
      "name": "python3",
      "display_name": "Python 3"
    }
  },
  "cells": [
    {
      "cell_type": "markdown",
      "metadata": {
        "id": "view-in-github",
        "colab_type": "text"
      },
      "source": [
        "<a href=\"https://colab.research.google.com/github/tasmilmks/Latihan-Python/blob/master/latihan_class.ipynb\" target=\"_parent\"><img src=\"https://colab.research.google.com/assets/colab-badge.svg\" alt=\"Open In Colab\"/></a>"
      ]
    },
    {
      "cell_type": "code",
      "metadata": {
        "id": "n7UYu_V-3F5m",
        "colab_type": "code",
        "colab": {
          "base_uri": "https://localhost:8080/",
          "height": 68
        },
        "outputId": "c0d6cf7b-8ab6-4484-d257-e60f22ecd8b3"
      },
      "source": [
        "class tumbuhan:\n",
        "  def __init__(self,nama):\n",
        "    self.nama=nama\n",
        "\n",
        "  def ciri(self):\n",
        "    print(self.nama,\"tumbuhan liar bro..\")\n",
        "\n",
        "class akar_tunggang(tumbuhan):\n",
        "  def __init__(self,nama,jenis):\n",
        "    super().__init__(nama)\n",
        "    self.jenis=jenis\n",
        "\n",
        "  def ciri(self):\n",
        "    print(self.nama,\"masuk dalam kategori \", self.jenis)\n",
        "\n",
        "class akar_serabut(tumbuhan):\n",
        "  def __init__(self,nama,akar):\n",
        "    super().__init__(nama)\n",
        "    self.akar=akar\n",
        "  def ciri(self):\n",
        "    print(self.nama, \"pada umumnya\",self.akar)\n",
        "\n",
        "a=tumbuhan(\"pisang\")\n",
        "b=akar_tunggang(\"rambutan\",\"akar tunggang lho..\")\n",
        "c=akar_serabut(\"pisang\",\"akarnya pendek-pendek\")\n",
        "a.ciri()\n",
        "b.ciri()\n",
        "c.ciri()"
      ],
      "execution_count": 12,
      "outputs": [
        {
          "output_type": "stream",
          "text": [
            "pisang tumbuhan liar bro..\n",
            "rambutan masuk dalam kategori  akar tunggang lho..\n",
            "pisang pada umunya akarnya pendek-pendek\n"
          ],
          "name": "stdout"
        }
      ]
    },
    {
      "cell_type": "code",
      "metadata": {
        "id": "ZJcWx7QW14ft",
        "colab_type": "code",
        "colab": {
          "base_uri": "https://localhost:8080/",
          "height": 68
        },
        "outputId": "d58b7282-15d7-4664-dae2-7d1690671773"
      },
      "source": [
        "class kucing:\n",
        "  def __init__(self,nama):\n",
        "    self.nama=nama\n",
        "    \n",
        "  def ciri(self):\n",
        "    print(self.nama,\" rata-rata umurnya 7 tahun\")\n",
        "\n",
        "class jenis_kel(kucing):\n",
        "  def __init__(self,nama,kelamin):\n",
        "    super().__init__(nama)\n",
        "    self.kelamin=kelamin\n",
        "    \n",
        "  def ciri(self):\n",
        "      print(self.nama,\" memiliki jenis kelamin\",self.kelamin)\n",
        "\n",
        "class kucingku(kucing):\n",
        "  def __init__(self,nama,sifatnya):\n",
        "    super().__init__(nama)\n",
        "    self.sifatnya=sifatnya\n",
        "\n",
        "  def ciri(self):\n",
        "      print(self.nama,\"masuk dalam kategori\",self.sifatnya)\n",
        "\n",
        "x=kucing(\"Kucing\")\n",
        "y=jenis_kel(\"Kucing Jantan\",\"Jantan\")\n",
        "z=kucingku(\"Kucing itu\",\"hewan mamalia\")\n",
        "x.ciri()\n",
        "y.ciri()\n",
        "z.ciri()\n",
        "\n",
        "\n"
      ],
      "execution_count": 30,
      "outputs": [
        {
          "output_type": "stream",
          "text": [
            "Kucing  rata-rata umurnya 7 tahun\n",
            "Kucing Jantan  memiliki jenis kelamin Jantan\n",
            "Kucing itu masuk dalam kategori hewan mamalia\n"
          ],
          "name": "stdout"
        }
      ]
    },
    {
      "cell_type": "code",
      "metadata": {
        "id": "yfxVHFWJklQD",
        "colab_type": "code",
        "colab": {
          "base_uri": "https://localhost:8080/",
          "height": 51
        },
        "outputId": "661d8859-3908-4ff4-a72e-791e35edf531"
      },
      "source": [
        "class motor:\n",
        "  def __init__(self,nama):\n",
        "    self.nama=nama\n",
        "  def cepat(self):\n",
        "    print(self.nama, \"sangat cepat!!\")\n",
        "\n",
        "class bensin(motor):\n",
        "  def __init__(self,nama,ket):\n",
        "    super().__init__(nama)\n",
        "    self.ket=ket\n",
        "  def cepat(self):\n",
        "    print(self.nama,\"termasuk dalam kategori cepat dan \",self.ket)\n",
        "\n",
        "a=motor(\"Motor Mio\")\n",
        "b=bensin(\"Motor ini\", \"sangat irit lho..\")\n",
        "a.cepat()\n",
        "b.cepat()\n"
      ],
      "execution_count": 38,
      "outputs": [
        {
          "output_type": "stream",
          "text": [
            "Motor Mio sangat cepat!!\n",
            "Motor ini termasuk dalam kategori cepat dan  sangat irit lho..\n"
          ],
          "name": "stdout"
        }
      ]
    },
    {
      "cell_type": "code",
      "metadata": {
        "id": "OWP6Meylmq_9",
        "colab_type": "code",
        "colab": {
          "base_uri": "https://localhost:8080/",
          "height": 68
        },
        "outputId": "b307e587-7b3f-40f6-c1b4-3372db28ef54"
      },
      "source": [
        "stack=[]\n",
        "def push(val):\n",
        "  stack.append(val)\n",
        "\n",
        "def pop():\n",
        "  val=stack[-1]\n",
        "  del stack[-1]\n",
        "  return val\n",
        "\n",
        "push(6)\n",
        "push(5)  \n",
        "push(4)\n",
        "print(pop())\n",
        "print(pop())\n",
        "print(pop())\n",
        "\n"
      ],
      "execution_count": 41,
      "outputs": [
        {
          "output_type": "stream",
          "text": [
            "4\n",
            "5\n",
            "6\n"
          ],
          "name": "stdout"
        }
      ]
    },
    {
      "cell_type": "code",
      "metadata": {
        "id": "n4Yt2q3bpE8S",
        "colab_type": "code",
        "colab": {
          "base_uri": "https://localhost:8080/",
          "height": 119
        },
        "outputId": "0e94cc0c-cbb6-4996-911a-cec1d32cfa70"
      },
      "source": [
        "class Stack:\n",
        "    def __init__(self):\n",
        "        self.__stackList = []\n",
        "\n",
        "    def push(self, val):\n",
        "        self.__stackList.append(val)\n",
        "\n",
        "    def pop(self):\n",
        "        val = self.__stackList[-1]\n",
        "        del self.__stackList[-1]\n",
        "        return val\n",
        "\n",
        "\n",
        "class AddingStack(Stack):\n",
        "    def __init__(self):\n",
        "        Stack.__init__(self)\n",
        "        self.__sum = 0\n",
        "\n",
        "    def getSum(self):\n",
        "        return self.__sum\n",
        "\n",
        "    def push(self, val):\n",
        "        self.__sum += val\n",
        "        Stack.push(self, val)\n",
        "\n",
        "    def pop(self):\n",
        "        val = Stack.pop(self)\n",
        "        self.__sum -= val\n",
        "        return val\n",
        "\n",
        "\n",
        "stackObject = AddingStack()\n",
        "\n",
        "for i in range(5):\n",
        "    stackObject.push(i)\n",
        "print(stackObject.getSum())\n",
        "\n",
        "for i in range(5):\n",
        "    print(stackObject.pop())"
      ],
      "execution_count": 42,
      "outputs": [
        {
          "output_type": "stream",
          "text": [
            "10\n",
            "4\n",
            "3\n",
            "2\n",
            "1\n",
            "0\n"
          ],
          "name": "stdout"
        }
      ]
    },
    {
      "cell_type": "code",
      "metadata": {
        "id": "eIIjmlwtRGS1",
        "colab_type": "code",
        "colab": {}
      },
      "source": [
        "class Fib:\n",
        "\tdef __init__(self, nn):\n",
        "\t\tself.__n = nn\n",
        "\t\tself.__i = 0\n",
        "\t\tself.__p1 = self.__p2 = 1\n",
        "\n",
        "\tdef __iter__(self):\n",
        "\t\tprint(\"Fib iter\")\n",
        "\t\treturn self\n",
        "\n",
        "\tdef __next__(self):\n",
        "\t\tself.__i += 1\n",
        "\t\tif self.__i > self.__n:  0->1, 1->1, 2->2,3->3, 4->\n",
        "\t\t\traise StopIteration\n",
        "\t\tif self.__i in [1, 2]:\n",
        "\t\t\treturn 1\n",
        "\t\tret = self.__p1 + self.__p2\n",
        "\t\tself.__p1, self.__p2 = self.__p2, ret\n",
        "\t\treturn ret\n",
        "  \n",
        "  "
      ],
      "execution_count": 46,
      "outputs": []
    },
    {
      "cell_type": "code",
      "metadata": {
        "id": "2JBh5DqHaiV2",
        "colab_type": "code",
        "colab": {}
      },
      "source": [
        ""
      ],
      "execution_count": null,
      "outputs": []
    },
    {
      "cell_type": "code",
      "metadata": {
        "id": "lmvbMNSCRawr",
        "colab_type": "code",
        "colab": {
          "base_uri": "https://localhost:8080/",
          "height": 204
        },
        "outputId": "1987e07d-b56e-451c-8aca-a9d7c33a3aa4"
      },
      "source": [
        "for i in Fib(10):\n",
        "  \tprint(i)"
      ],
      "execution_count": 47,
      "outputs": [
        {
          "output_type": "stream",
          "text": [
            "Fib iter\n",
            "1\n",
            "1\n",
            "2\n",
            "3\n",
            "5\n",
            "8\n",
            "13\n",
            "21\n",
            "34\n",
            "55\n"
          ],
          "name": "stdout"
        }
      ]
    },
    {
      "cell_type": "code",
      "metadata": {
        "id": "dwDlNAw2alA5",
        "colab_type": "code",
        "colab": {
          "base_uri": "https://localhost:8080/",
          "height": 68
        },
        "outputId": "d592fd23-fc5d-4cd7-cd5f-1e67207046bd"
      },
      "source": [
        "class ExampleClass:\n",
        "    counter = 0\n",
        "    def __init__(self, val = 1):\n",
        "        self.__first = val\n",
        "        ExampleClass.counter += 1\n",
        "\n",
        "exampleObject1 = ExampleClass()\n",
        "exampleObject2 = ExampleClass(2)\n",
        "exampleObject3 = ExampleClass(4)\n",
        "\n",
        "print(exampleObject1.__dict__, exampleObject1.counter)\n",
        "print(exampleObject2.__dict__, exampleObject2.counter)\n",
        "print(exampleObject3.__dict__, exampleObject3.counter)"
      ],
      "execution_count": 48,
      "outputs": [
        {
          "output_type": "stream",
          "text": [
            "{'_ExampleClass__first': 1} 3\n",
            "{'_ExampleClass__first': 2} 3\n",
            "{'_ExampleClass__first': 4} 3\n"
          ],
          "name": "stdout"
        }
      ]
    },
    {
      "cell_type": "code",
      "metadata": {
        "id": "hfB_drgbdas_",
        "colab_type": "code",
        "colab": {}
      },
      "source": [
        "# Yield\n",
        "\n",
        "def fun(n):\n",
        "    for i in range(n):\n",
        "        yield i\n",
        "\n",
        "# Lambda\n",
        "# lambda parameters : expression\n",
        "\n",
        "two = lambda : 2\n",
        "sqr = lambda x : x * x\n",
        "pwr = lambda x, y : x ** y"
      ],
      "execution_count": 50,
      "outputs": []
    },
    {
      "cell_type": "code",
      "metadata": {
        "id": "t_zJ8W-TeEuo",
        "colab_type": "code",
        "colab": {
          "base_uri": "https://localhost:8080/",
          "height": 187
        },
        "outputId": "ea9a4030-87ab-4b56-8ddd-915791f4c066"
      },
      "source": [
        "for i in fun(5):\n",
        "    print(i)\n",
        "\n",
        "for a in range(-2, 3):\n",
        "    print(sqr(a), end=\" \")\n",
        "    print(pwr(a, two()))"
      ],
      "execution_count": 51,
      "outputs": [
        {
          "output_type": "stream",
          "text": [
            "0\n",
            "1\n",
            "2\n",
            "3\n",
            "4\n",
            "4 4\n",
            "1 1\n",
            "0 0\n",
            "1 1\n",
            "4 4\n"
          ],
          "name": "stdout"
        }
      ]
    },
    {
      "cell_type": "code",
      "metadata": {
        "id": "CIMCm6h2lCFL",
        "colab_type": "code",
        "colab": {}
      },
      "source": [
        "# Map and filter\n",
        "\n",
        "from random import seed, randint\n",
        "\n",
        "#map\n",
        "list1 = [x for x in range(5)]\n",
        "list2 = list(map(lambda x: 2 ** x, list1))\n",
        "\n",
        "#filter\n",
        "seed(0)\n",
        "data = [ randint(-10,10) for x in range(5) ]\n",
        "filtered = list(filter(lambda x: x > 0 and x % 2 == 0, data))"
      ],
      "execution_count": 55,
      "outputs": []
    },
    {
      "cell_type": "code",
      "metadata": {
        "id": "jQxeUyoblDXJ",
        "colab_type": "code",
        "colab": {
          "base_uri": "https://localhost:8080/",
          "height": 85
        },
        "outputId": "7f68fcdf-ae93-45c7-99b0-f9dbe7224f6e"
      },
      "source": [
        "print(list1)\n",
        "print(list2)\n",
        "print(data)\n",
        "print(filtered)"
      ],
      "execution_count": 53,
      "outputs": [
        {
          "output_type": "stream",
          "text": [
            "[0, 1, 2, 3, 4]\n",
            "[1, 2, 4, 8, 16]\n",
            "[2, 3, -9, -2, 6]\n",
            "[2, 6]\n"
          ],
          "name": "stdout"
        }
      ]
    }
  ]
}
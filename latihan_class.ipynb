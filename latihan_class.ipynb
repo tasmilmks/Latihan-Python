{
  "nbformat": 4,
  "nbformat_minor": 0,
  "metadata": {
    "colab": {
      "name": "latihan_class.ipynb",
      "provenance": [],
      "collapsed_sections": [],
      "authorship_tag": "ABX9TyNr0NK0XNRIHBllAgYfzxwf",
      "include_colab_link": true
    },
    "kernelspec": {
      "name": "python3",
      "display_name": "Python 3"
    }
  },
  "cells": [
    {
      "cell_type": "markdown",
      "metadata": {
        "id": "view-in-github",
        "colab_type": "text"
      },
      "source": [
        "<a href=\"https://colab.research.google.com/github/tasmilmks/Latihan-Python/blob/master/latihan_class.ipynb\" target=\"_parent\"><img src=\"https://colab.research.google.com/assets/colab-badge.svg\" alt=\"Open In Colab\"/></a>"
      ]
    },
    {
      "cell_type": "code",
      "metadata": {
        "id": "n7UYu_V-3F5m",
        "colab_type": "code",
        "colab": {
          "base_uri": "https://localhost:8080/",
          "height": 68
        },
        "outputId": "c0d6cf7b-8ab6-4484-d257-e60f22ecd8b3"
      },
      "source": [
        "class tumbuhan:\n",
        "  def __init__(self,nama):\n",
        "    self.nama=nama\n",
        "\n",
        "  def ciri(self):\n",
        "    print(self.nama,\"tumbuhan liar bro..\")\n",
        "\n",
        "class akar_tunggang(tumbuhan):\n",
        "  def __init__(self,nama,jenis):\n",
        "    super().__init__(nama)\n",
        "    self.jenis=jenis\n",
        "\n",
        "  def ciri(self):\n",
        "    print(self.nama,\"masuk dalam kategori \", self.jenis)\n",
        "\n",
        "class akar_serabut(tumbuhan):\n",
        "  def __init__(self,nama,akar):\n",
        "    super().__init__(nama)\n",
        "    self.akar=akar\n",
        "  def ciri(self):\n",
        "    print(self.nama, \"pada umumnya\",self.akar)\n",
        "\n",
        "a=tumbuhan(\"pisang\")\n",
        "b=akar_tunggang(\"rambutan\",\"akar tunggang lho..\")\n",
        "c=akar_serabut(\"pisang\",\"akarnya pendek-pendek\")\n",
        "a.ciri()\n",
        "b.ciri()\n",
        "c.ciri()"
      ],
      "execution_count": 12,
      "outputs": [
        {
          "output_type": "stream",
          "text": [
            "pisang tumbuhan liar bro..\n",
            "rambutan masuk dalam kategori  akar tunggang lho..\n",
            "pisang pada umunya akarnya pendek-pendek\n"
          ],
          "name": "stdout"
        }
      ]
    },
    {
      "cell_type": "code",
      "metadata": {
        "id": "ZJcWx7QW14ft",
        "colab_type": "code",
        "colab": {
          "base_uri": "https://localhost:8080/",
          "height": 68
        },
        "outputId": "d58b7282-15d7-4664-dae2-7d1690671773"
      },
      "source": [
        "class kucing:\n",
        "  def __init__(self,nama):\n",
        "    self.nama=nama\n",
        "    \n",
        "  def ciri(self):\n",
        "    print(self.nama,\" rata-rata umurnya 7 tahun\")\n",
        "\n",
        "class jenis_kel(kucing):\n",
        "  def __init__(self,nama,kelamin):\n",
        "    super().__init__(nama)\n",
        "    self.kelamin=kelamin\n",
        "    \n",
        "  def ciri(self):\n",
        "      print(self.nama,\" memiliki jenis kelamin\",self.kelamin)\n",
        "\n",
        "class kucingku(kucing):\n",
        "  def __init__(self,nama,sifatnya):\n",
        "    super().__init__(nama)\n",
        "    self.sifatnya=sifatnya\n",
        "\n",
        "  def ciri(self):\n",
        "      print(self.nama,\"masuk dalam kategori\",self.sifatnya)\n",
        "\n",
        "x=kucing(\"Kucing\")\n",
        "y=jenis_kel(\"Kucing Jantan\",\"Jantan\")\n",
        "z=kucingku(\"Kucing itu\",\"hewan mamalia\")\n",
        "x.ciri()\n",
        "y.ciri()\n",
        "z.ciri()\n",
        "\n",
        "\n"
      ],
      "execution_count": 30,
      "outputs": [
        {
          "output_type": "stream",
          "text": [
            "Kucing  rata-rata umurnya 7 tahun\n",
            "Kucing Jantan  memiliki jenis kelamin Jantan\n",
            "Kucing itu masuk dalam kategori hewan mamalia\n"
          ],
          "name": "stdout"
        }
      ]
    }
  ]
}
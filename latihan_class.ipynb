{
  "nbformat": 4,
  "nbformat_minor": 0,
  "metadata": {
    "colab": {
      "name": "latihan_class.ipynb",
      "provenance": [],
      "collapsed_sections": [],
      "authorship_tag": "ABX9TyMsiZSTRGgwUuHh/RhKC8me",
      "include_colab_link": true
    },
    "kernelspec": {
      "name": "python3",
      "display_name": "Python 3"
    }
  },
  "cells": [
    {
      "cell_type": "markdown",
      "metadata": {
        "id": "view-in-github",
        "colab_type": "text"
      },
      "source": [
        "<a href=\"https://colab.research.google.com/github/tasmilmks/Latihan-Python/blob/master/latihan_class.ipynb\" target=\"_parent\"><img src=\"https://colab.research.google.com/assets/colab-badge.svg\" alt=\"Open In Colab\"/></a>"
      ]
    },
    {
      "cell_type": "code",
      "metadata": {
        "id": "n7UYu_V-3F5m",
        "colab_type": "code",
        "colab": {
          "base_uri": "https://localhost:8080/",
          "height": 68
        },
        "outputId": "c0d6cf7b-8ab6-4484-d257-e60f22ecd8b3"
      },
      "source": [
        "class tumbuhan:\n",
        "  def __init__(self,nama):\n",
        "    self.nama=nama\n",
        "\n",
        "  def ciri(self):\n",
        "    print(self.nama,\"tumbuhan liar bro..\")\n",
        "\n",
        "class akar_tunggang(tumbuhan):\n",
        "  def __init__(self,nama,jenis):\n",
        "    super().__init__(nama)\n",
        "    self.jenis=jenis\n",
        "\n",
        "  def ciri(self):\n",
        "    print(self.nama,\"masuk dalam kategori \", self.jenis)\n",
        "\n",
        "class akar_serabut(tumbuhan):\n",
        "  def __init__(self,nama,akar):\n",
        "    super().__init__(nama)\n",
        "    self.akar=akar\n",
        "  def ciri(self):\n",
        "    print(self.nama, \"pada umumnya\",self.akar)\n",
        "\n",
        "a=tumbuhan(\"pisang\")\n",
        "b=akar_tunggang(\"rambutan\",\"akar tunggang lho..\")\n",
        "c=akar_serabut(\"pisang\",\"akarnya pendek-pendek\")\n",
        "a.ciri()\n",
        "b.ciri()\n",
        "c.ciri()"
      ],
      "execution_count": 12,
      "outputs": [
        {
          "output_type": "stream",
          "text": [
            "pisang tumbuhan liar bro..\n",
            "rambutan masuk dalam kategori  akar tunggang lho..\n",
            "pisang pada umunya akarnya pendek-pendek\n"
          ],
          "name": "stdout"
        }
      ]
    },
    {
      "cell_type": "code",
      "metadata": {
        "id": "ZJcWx7QW14ft",
        "colab_type": "code",
        "colab": {
          "base_uri": "https://localhost:8080/",
          "height": 68
        },
        "outputId": "d58b7282-15d7-4664-dae2-7d1690671773"
      },
      "source": [
        "class kucing:\n",
        "  def __init__(self,nama):\n",
        "    self.nama=nama\n",
        "    \n",
        "  def ciri(self):\n",
        "    print(self.nama,\" rata-rata umurnya 7 tahun\")\n",
        "\n",
        "class jenis_kel(kucing):\n",
        "  def __init__(self,nama,kelamin):\n",
        "    super().__init__(nama)\n",
        "    self.kelamin=kelamin\n",
        "    \n",
        "  def ciri(self):\n",
        "      print(self.nama,\" memiliki jenis kelamin\",self.kelamin)\n",
        "\n",
        "class kucingku(kucing):\n",
        "  def __init__(self,nama,sifatnya):\n",
        "    super().__init__(nama)\n",
        "    self.sifatnya=sifatnya\n",
        "\n",
        "  def ciri(self):\n",
        "      print(self.nama,\"masuk dalam kategori\",self.sifatnya)\n",
        "\n",
        "x=kucing(\"Kucing\")\n",
        "y=jenis_kel(\"Kucing Jantan\",\"Jantan\")\n",
        "z=kucingku(\"Kucing itu\",\"hewan mamalia\")\n",
        "x.ciri()\n",
        "y.ciri()\n",
        "z.ciri()\n",
        "\n",
        "\n"
      ],
      "execution_count": 30,
      "outputs": [
        {
          "output_type": "stream",
          "text": [
            "Kucing  rata-rata umurnya 7 tahun\n",
            "Kucing Jantan  memiliki jenis kelamin Jantan\n",
            "Kucing itu masuk dalam kategori hewan mamalia\n"
          ],
          "name": "stdout"
        }
      ]
    },
    {
      "cell_type": "code",
      "metadata": {
        "id": "yfxVHFWJklQD",
        "colab_type": "code",
        "colab": {
          "base_uri": "https://localhost:8080/",
          "height": 51
        },
        "outputId": "661d8859-3908-4ff4-a72e-791e35edf531"
      },
      "source": [
        "class motor:\n",
        "  def __init__(self,nama):\n",
        "    self.nama=nama\n",
        "  def cepat(self):\n",
        "    print(self.nama, \"sangat cepat!!\")\n",
        "\n",
        "class bensin(motor):\n",
        "  def __init__(self,nama,ket):\n",
        "    super().__init__(nama)\n",
        "    self.ket=ket\n",
        "  def cepat(self):\n",
        "    print(self.nama,\"termasuk dalam kategori cepat dan \",self.ket)\n",
        "\n",
        "a=motor(\"Motor Mio\")\n",
        "b=bensin(\"Motor ini\", \"sangat irit lho..\")\n",
        "a.cepat()\n",
        "b.cepat()\n"
      ],
      "execution_count": 38,
      "outputs": [
        {
          "output_type": "stream",
          "text": [
            "Motor Mio sangat cepat!!\n",
            "Motor ini termasuk dalam kategori cepat dan  sangat irit lho..\n"
          ],
          "name": "stdout"
        }
      ]
    },
    {
      "cell_type": "code",
      "metadata": {
        "id": "OWP6Meylmq_9",
        "colab_type": "code",
        "colab": {
          "base_uri": "https://localhost:8080/",
          "height": 68
        },
        "outputId": "b307e587-7b3f-40f6-c1b4-3372db28ef54"
      },
      "source": [
        "stack=[]\n",
        "def push(val):\n",
        "  stack.append(val)\n",
        "\n",
        "def pop():\n",
        "  val=stack[-1]\n",
        "  del stack[-1]\n",
        "  return val\n",
        "\n",
        "push(6)\n",
        "push(5)  \n",
        "push(4)\n",
        "print(pop())\n",
        "print(pop())\n",
        "print(pop())\n",
        "\n"
      ],
      "execution_count": 41,
      "outputs": [
        {
          "output_type": "stream",
          "text": [
            "4\n",
            "5\n",
            "6\n"
          ],
          "name": "stdout"
        }
      ]
    },
    {
      "cell_type": "code",
      "metadata": {
        "id": "n4Yt2q3bpE8S",
        "colab_type": "code",
        "colab": {
          "base_uri": "https://localhost:8080/",
          "height": 119
        },
        "outputId": "0e94cc0c-cbb6-4996-911a-cec1d32cfa70"
      },
      "source": [
        "class Stack:\n",
        "    def __init__(self):\n",
        "        self.__stackList = []\n",
        "\n",
        "    def push(self, val):\n",
        "        self.__stackList.append(val)\n",
        "\n",
        "    def pop(self):\n",
        "        val = self.__stackList[-1]\n",
        "        del self.__stackList[-1]\n",
        "        return val\n",
        "\n",
        "\n",
        "class AddingStack(Stack):\n",
        "    def __init__(self):\n",
        "        Stack.__init__(self)\n",
        "        self.__sum = 0\n",
        "\n",
        "    def getSum(self):\n",
        "        return self.__sum\n",
        "\n",
        "    def push(self, val):\n",
        "        self.__sum += val\n",
        "        Stack.push(self, val)\n",
        "\n",
        "    def pop(self):\n",
        "        val = Stack.pop(self)\n",
        "        self.__sum -= val\n",
        "        return val\n",
        "\n",
        "\n",
        "stackObject = AddingStack()\n",
        "\n",
        "for i in range(5):\n",
        "    stackObject.push(i)\n",
        "print(stackObject.getSum())\n",
        "\n",
        "for i in range(5):\n",
        "    print(stackObject.pop())"
      ],
      "execution_count": 42,
      "outputs": [
        {
          "output_type": "stream",
          "text": [
            "10\n",
            "4\n",
            "3\n",
            "2\n",
            "1\n",
            "0\n"
          ],
          "name": "stdout"
        }
      ]
    },
    {
      "cell_type": "code",
      "metadata": {
        "id": "eIIjmlwtRGS1",
        "colab_type": "code",
        "colab": {}
      },
      "source": [
        "class Fib:\n",
        "\tdef __init__(self, nn):\n",
        "\t\tself.__n = nn\n",
        "\t\tself.__i = 0\n",
        "\t\tself.__p1 = self.__p2 = 1\n",
        "\n",
        "\tdef __iter__(self):\n",
        "\t\tprint(\"Fib iter\")\n",
        "\t\treturn self\n",
        "\n",
        "\tdef __next__(self):\n",
        "\t\tself.__i += 1\n",
        "\t\tif self.__i > self.__n:  0->1, 1->1, 2->2,3->3, 4->\n",
        "\t\t\traise StopIteration\n",
        "\t\tif self.__i in [1, 2]:\n",
        "\t\t\treturn 1\n",
        "\t\tret = self.__p1 + self.__p2\n",
        "\t\tself.__p1, self.__p2 = self.__p2, ret\n",
        "\t\treturn ret\n",
        "  \n",
        "  "
      ],
      "execution_count": 46,
      "outputs": []
    },
    {
      "cell_type": "code",
      "metadata": {
        "id": "2JBh5DqHaiV2",
        "colab_type": "code",
        "colab": {}
      },
      "source": [
        ""
      ],
      "execution_count": null,
      "outputs": []
    },
    {
      "cell_type": "code",
      "metadata": {
        "id": "lmvbMNSCRawr",
        "colab_type": "code",
        "colab": {
          "base_uri": "https://localhost:8080/",
          "height": 204
        },
        "outputId": "1987e07d-b56e-451c-8aca-a9d7c33a3aa4"
      },
      "source": [
        "for i in Fib(10):\n",
        "  \tprint(i)"
      ],
      "execution_count": 47,
      "outputs": [
        {
          "output_type": "stream",
          "text": [
            "Fib iter\n",
            "1\n",
            "1\n",
            "2\n",
            "3\n",
            "5\n",
            "8\n",
            "13\n",
            "21\n",
            "34\n",
            "55\n"
          ],
          "name": "stdout"
        }
      ]
    },
    {
      "cell_type": "code",
      "metadata": {
        "id": "dwDlNAw2alA5",
        "colab_type": "code",
        "colab": {
          "base_uri": "https://localhost:8080/",
          "height": 68
        },
        "outputId": "d592fd23-fc5d-4cd7-cd5f-1e67207046bd"
      },
      "source": [
        "class ExampleClass:\n",
        "    counter = 0\n",
        "    def __init__(self, val = 1):\n",
        "        self.__first = val\n",
        "        ExampleClass.counter += 1\n",
        "\n",
        "exampleObject1 = ExampleClass()\n",
        "exampleObject2 = ExampleClass(2)\n",
        "exampleObject3 = ExampleClass(4)\n",
        "\n",
        "print(exampleObject1.__dict__, exampleObject1.counter)\n",
        "print(exampleObject2.__dict__, exampleObject2.counter)\n",
        "print(exampleObject3.__dict__, exampleObject3.counter)"
      ],
      "execution_count": 48,
      "outputs": [
        {
          "output_type": "stream",
          "text": [
            "{'_ExampleClass__first': 1} 3\n",
            "{'_ExampleClass__first': 2} 3\n",
            "{'_ExampleClass__first': 4} 3\n"
          ],
          "name": "stdout"
        }
      ]
    },
    {
      "cell_type": "code",
      "metadata": {
        "id": "hfB_drgbdas_",
        "colab_type": "code",
        "colab": {}
      },
      "source": [
        "# Yield\n",
        "\n",
        "def fun(n):\n",
        "    for i in range(n):\n",
        "        yield i\n",
        "\n",
        "# Lambda\n",
        "# lambda parameters : expression\n",
        "\n",
        "two = lambda : 2\n",
        "sqr = lambda x : x * x\n",
        "pwr = lambda x, y : x ** y"
      ],
      "execution_count": 86,
      "outputs": []
    },
    {
      "cell_type": "code",
      "metadata": {
        "id": "t_zJ8W-TeEuo",
        "colab_type": "code",
        "colab": {
          "base_uri": "https://localhost:8080/",
          "height": 187
        },
        "outputId": "39bc400c-1375-4998-e272-3a67a2891ef4"
      },
      "source": [
        "for i in fun(5):\n",
        "    print(i)\n",
        "\n",
        "for a in range(-2, 3):\n",
        "    print(sqr(a), end=\" \")\n",
        "    print(pwr(a, two()))"
      ],
      "execution_count": 71,
      "outputs": [
        {
          "output_type": "stream",
          "text": [
            "0\n",
            "1\n",
            "2\n",
            "3\n",
            "4\n",
            "4 4\n",
            "1 1\n",
            "0 0\n",
            "1 1\n",
            "4 4\n"
          ],
          "name": "stdout"
        }
      ]
    },
    {
      "cell_type": "code",
      "metadata": {
        "id": "CIMCm6h2lCFL",
        "colab_type": "code",
        "colab": {
          "base_uri": "https://localhost:8080/",
          "height": 232
        },
        "outputId": "f3851760-1be2-405e-b80b-17e7fd6f1cec"
      },
      "source": [
        "# Map and filter\n",
        "\n",
        "from random import seed, randint\n",
        "\n",
        "#map\n",
        "list1 = [x for x in range(5)]\n",
        "list2 = list(map(lambda x: 2 ** x, list1))\n",
        "\n",
        "#filter\n",
        "seed(0)\n",
        "data = [ randint(-10,10) for x in range(5) ]\n",
        "filtered = list(filter(lambda x: x > 0 and x % 2 == 0, data))"
      ],
      "execution_count": 88,
      "outputs": [
        {
          "output_type": "error",
          "ename": "TypeError",
          "evalue": "ignored",
          "traceback": [
            "\u001b[0;31m---------------------------------------------------------------------------\u001b[0m",
            "\u001b[0;31mTypeError\u001b[0m                                 Traceback (most recent call last)",
            "\u001b[0;32m<ipython-input-88-2d6aeee97853>\u001b[0m in \u001b[0;36m<module>\u001b[0;34m()\u001b[0m\n\u001b[1;32m      5\u001b[0m \u001b[0;31m#map\u001b[0m\u001b[0;34m\u001b[0m\u001b[0;34m\u001b[0m\u001b[0;34m\u001b[0m\u001b[0m\n\u001b[1;32m      6\u001b[0m \u001b[0mlist1\u001b[0m \u001b[0;34m=\u001b[0m \u001b[0;34m[\u001b[0m\u001b[0mx\u001b[0m \u001b[0;32mfor\u001b[0m \u001b[0mx\u001b[0m \u001b[0;32min\u001b[0m \u001b[0mrange\u001b[0m\u001b[0;34m(\u001b[0m\u001b[0;36m5\u001b[0m\u001b[0;34m)\u001b[0m\u001b[0;34m]\u001b[0m\u001b[0;34m\u001b[0m\u001b[0;34m\u001b[0m\u001b[0m\n\u001b[0;32m----> 7\u001b[0;31m \u001b[0mlist2\u001b[0m \u001b[0;34m=\u001b[0m \u001b[0mlist\u001b[0m\u001b[0;34m(\u001b[0m\u001b[0mmap\u001b[0m\u001b[0;34m(\u001b[0m\u001b[0;32mlambda\u001b[0m \u001b[0mx\u001b[0m\u001b[0;34m:\u001b[0m \u001b[0;36m2\u001b[0m \u001b[0;34m**\u001b[0m \u001b[0mx\u001b[0m\u001b[0;34m,\u001b[0m \u001b[0mlist1\u001b[0m\u001b[0;34m)\u001b[0m\u001b[0;34m)\u001b[0m\u001b[0;34m\u001b[0m\u001b[0;34m\u001b[0m\u001b[0m\n\u001b[0m\u001b[1;32m      8\u001b[0m \u001b[0;34m\u001b[0m\u001b[0m\n\u001b[1;32m      9\u001b[0m \u001b[0;31m#filter\u001b[0m\u001b[0;34m\u001b[0m\u001b[0;34m\u001b[0m\u001b[0;34m\u001b[0m\u001b[0m\n",
            "\u001b[0;31mTypeError\u001b[0m: 'list' object is not callable"
          ]
        }
      ]
    },
    {
      "cell_type": "code",
      "metadata": {
        "id": "jQxeUyoblDXJ",
        "colab_type": "code",
        "colab": {
          "base_uri": "https://localhost:8080/",
          "height": 85
        },
        "outputId": "5a8d1707-a260-4c7a-98b2-69c2c490c55d"
      },
      "source": [
        "print(list1)\n",
        "print(list2)\n",
        "print(data)\n",
        "print(filtered)"
      ],
      "execution_count": 78,
      "outputs": [
        {
          "output_type": "stream",
          "text": [
            "[0, 1, 2, 3, 4]\n",
            "[1, 2, 4, 8, 16]\n",
            "[2, 3, -9, -2, 6]\n",
            "[2, 6]\n"
          ],
          "name": "stdout"
        }
      ]
    },
    {
      "cell_type": "code",
      "metadata": {
        "id": "tbHMISfAmjgd",
        "colab_type": "code",
        "colab": {
          "base_uri": "https://localhost:8080/",
          "height": 34
        },
        "outputId": "5f2bd924-daa4-47ea-ae35-5237ade80fe4"
      },
      "source": [
        "def outer(par):\n",
        "\tloc = par\n",
        "\tdef inner():\n",
        "\t\treturn loc\n",
        "\treturn inner\n",
        "\n",
        "var = 1\n",
        "fun = outer(var)\n",
        "print(fun())"
      ],
      "execution_count": 91,
      "outputs": [
        {
          "output_type": "stream",
          "text": [
            "1\n"
          ],
          "name": "stdout"
        }
      ]
    },
    {
      "cell_type": "code",
      "metadata": {
        "id": "4UrSJh-At3VQ",
        "colab_type": "code",
        "colab": {
          "base_uri": "https://localhost:8080/",
          "height": 34
        },
        "outputId": "bd9e920c-8439-4b79-c586-cc5cbbc267a9"
      },
      "source": [
        "from functools import partial \n",
        "\n",
        "# A normal function \n",
        "def f(a, b, c, x): \n",
        "    return 1000*a + 100*b + 10*c + x \n",
        "  \n",
        "# A partial function that calls f with \n",
        "# a as 3, b as 1 and c as 4. \n",
        "g = partial(f, 3, 1, 4) \n",
        "  \n",
        "# Calling g() \n",
        "print(g(5))"
      ],
      "execution_count": 92,
      "outputs": [
        {
          "output_type": "stream",
          "text": [
            "3145\n"
          ],
          "name": "stdout"
        }
      ]
    },
    {
      "cell_type": "code",
      "metadata": {
        "id": "3AXwCyEPuLmb",
        "colab_type": "code",
        "colab": {
          "base_uri": "https://localhost:8080/",
          "height": 204
        },
        "outputId": "aff94e24-d02e-4947-ba6e-4e159655bc6d"
      },
      "source": [
        "\n",
        "!wget  https://raw.githubusercontent.com/sykrn/py-dts/master/asets/cth.txt"
      ],
      "execution_count": 93,
      "outputs": [
        {
          "output_type": "stream",
          "text": [
            "--2020-06-17 14:40:05--  https://raw.githubusercontent.com/sykrn/py-dts/master/asets/cth.txt\n",
            "Resolving raw.githubusercontent.com (raw.githubusercontent.com)... 151.101.0.133, 151.101.64.133, 151.101.128.133, ...\n",
            "Connecting to raw.githubusercontent.com (raw.githubusercontent.com)|151.101.0.133|:443... connected.\n",
            "HTTP request sent, awaiting response... 200 OK\n",
            "Length: 290 [text/plain]\n",
            "Saving to: ‘cth.txt’\n",
            "\n",
            "\rcth.txt               0%[                    ]       0  --.-KB/s               \rcth.txt             100%[===================>]     290  --.-KB/s    in 0s      \n",
            "\n",
            "2020-06-17 14:40:05 (11.6 MB/s) - ‘cth.txt’ saved [290/290]\n",
            "\n"
          ],
          "name": "stdout"
        }
      ]
    },
    {
      "cell_type": "code",
      "metadata": {
        "id": "7rG28B1YuM2_",
        "colab_type": "code",
        "colab": {
          "base_uri": "https://localhost:8080/",
          "height": 119
        },
        "outputId": "b261b397-4f30-4c32-e314-2c285b415c93"
      },
      "source": [
        "stream = open(\"cth.txt\", \"rt\", encoding = \"utf-8\") # opening tzop.txt in read mode, returning it as a file object\n",
        "print(stream.read())\n",
        "stream.close()"
      ],
      "execution_count": 94,
      "outputs": [
        {
          "output_type": "stream",
          "text": [
            "Pertama\n",
            "Kami poetera dan poeteri Indonesia, mengakoe bertoempah darah jang satoe, tanah Indonesia.\n",
            "Kedoea\n",
            "Kami poetera dan poeteri Indonesia, mengakoe berbangsa jang satoe, bangsa Indonesia.\n",
            "Ketiga\n",
            "Kami poetera dan poeteri Indonesia, mendjoendjoeng bahasa persatoean, bahasa Indonesia.\n"
          ],
          "name": "stdout"
        }
      ]
    },
    {
      "cell_type": "code",
      "metadata": {
        "id": "eZjvFNFHu-c9",
        "colab_type": "code",
        "colab": {
          "base_uri": "https://localhost:8080/",
          "height": 153
        },
        "outputId": "7259664f-859a-4106-b80e-21635cfc9793"
      },
      "source": [
        "# Read\n",
        "from os import strerror\n",
        "\n",
        "try:\n",
        "    cnt = 0\n",
        "    s = open('cth.txt', \"rt\")\n",
        "    ch = s.read(1)\n",
        "    while ch != '':\n",
        "        print(ch, end='')\n",
        "        cnt += 1\n",
        "        ch = s.read(1)\n",
        "    s.close()\n",
        "    print(\"\\n\\nCharacters in file:\", cnt)\n",
        "except IOError as e:\n",
        "    print(\"I/O error occurred: \", strerr(e.errno))"
      ],
      "execution_count": 95,
      "outputs": [
        {
          "output_type": "stream",
          "text": [
            "Pertama\n",
            "Kami poetera dan poeteri Indonesia, mengakoe bertoempah darah jang satoe, tanah Indonesia.\n",
            "Kedoea\n",
            "Kami poetera dan poeteri Indonesia, mengakoe berbangsa jang satoe, bangsa Indonesia.\n",
            "Ketiga\n",
            "Kami poetera dan poeteri Indonesia, mendjoendjoeng bahasa persatoean, bahasa Indonesia.\n",
            "\n",
            "Characters in file: 285\n"
          ],
          "name": "stdout"
        }
      ]
    },
    {
      "cell_type": "code",
      "metadata": {
        "id": "vFLGpxZ0vVK1",
        "colab_type": "code",
        "colab": {}
      },
      "source": [
        "from os import strerror\n",
        "\n",
        "try:\n",
        "\tfo = open('newtext.txt', 'wt')\n",
        "\tfor i in range(10):\n",
        "\t\tfo.write(\"line #\" + str(i+1) + \"\\n\")\n",
        "\tfo.close()\n",
        "except IOError as e:\n",
        "\tprint(\"I/O error occurred: \", strerr(e.errno))"
      ],
      "execution_count": 98,
      "outputs": []
    },
    {
      "cell_type": "code",
      "metadata": {
        "id": "-KBzB9GKvfD1",
        "colab_type": "code",
        "colab": {
          "base_uri": "https://localhost:8080/",
          "height": 187
        },
        "outputId": "119b312b-06b2-4e08-dcb2-90685c633927"
      },
      "source": [
        "data = bytearray(10)\n",
        "\n",
        "for i in range(len(data)):\n",
        "    data[i] = 10 - i\n",
        "\n",
        "for b in data:\n",
        "    print(hex(b))"
      ],
      "execution_count": 99,
      "outputs": [
        {
          "output_type": "stream",
          "text": [
            "0xa\n",
            "0x9\n",
            "0x8\n",
            "0x7\n",
            "0x6\n",
            "0x5\n",
            "0x4\n",
            "0x3\n",
            "0x2\n",
            "0x1\n"
          ],
          "name": "stdout"
        }
      ]
    },
    {
      "cell_type": "code",
      "metadata": {
        "id": "JNG9g3ddyfgi",
        "colab_type": "code",
        "colab": {
          "base_uri": "https://localhost:8080/",
          "height": 34
        },
        "outputId": "211be6b2-d04b-4faa-f876-648b8b2890c4"
      },
      "source": [
        "def fun(n):\n",
        "  s='+'\n",
        "  for i in range(n):\n",
        "    s+=s\n",
        "    yield s\n",
        "for x in fun(2):\n",
        "  print(x,end='')"
      ],
      "execution_count": 100,
      "outputs": [
        {
          "output_type": "stream",
          "text": [
            "++++++"
          ],
          "name": "stdout"
        }
      ]
    },
    {
      "cell_type": "code",
      "metadata": {
        "id": "0HUIDtoF0DfU",
        "colab_type": "code",
        "colab": {
          "base_uri": "https://localhost:8080/",
          "height": 34
        },
        "outputId": "533b88fc-e2ab-4182-a65f-c91cb1be804a"
      },
      "source": [
        "class a:\n",
        "  v=2\n",
        "class b(a):\n",
        "  v=1\n",
        "class c(b):\n",
        "  pass\n",
        "o=c()\n",
        "print(o.v) \n",
        "\n",
        "\n"
      ],
      "execution_count": 103,
      "outputs": [
        {
          "output_type": "stream",
          "text": [
            "1\n"
          ],
          "name": "stdout"
        }
      ]
    },
    {
      "cell_type": "code",
      "metadata": {
        "id": "AUJHrrWJ2toQ",
        "colab_type": "code",
        "colab": {
          "base_uri": "https://localhost:8080/",
          "height": 34
        },
        "outputId": "c1f3a1c8-85e2-4618-8c22-c1d2ca9b7f60"
      },
      "source": [
        "class a():\n",
        "   A=1\n",
        "print(hasattr(a,'A'))"
      ],
      "execution_count": 106,
      "outputs": [
        {
          "output_type": "stream",
          "text": [
            "True\n"
          ],
          "name": "stdout"
        }
      ]
    },
    {
      "cell_type": "code",
      "metadata": {
        "id": "LatoIqra3t9V",
        "colab_type": "code",
        "colab": {
          "base_uri": "https://localhost:8080/",
          "height": 34
        },
        "outputId": "29f76c98-bf21-4bbb-a5a6-82793f215cb5"
      },
      "source": [
        "def I():\n",
        "  s='abcdef'\n",
        "  for c in s[::2]:\n",
        "    yield c\n",
        "for x in I():\n",
        "  print (x,end='')\n"
      ],
      "execution_count": 109,
      "outputs": [
        {
          "output_type": "stream",
          "text": [
            "ace"
          ],
          "name": "stdout"
        }
      ]
    },
    {
      "cell_type": "code",
      "metadata": {
        "id": "sdVcwYAm5M3R",
        "colab_type": "code",
        "colab": {
          "base_uri": "https://localhost:8080/",
          "height": 34
        },
        "outputId": "dee2fd29-2fae-495c-8504-9b5d8689519e"
      },
      "source": [
        "def f(x):\n",
        "  try:\n",
        "    x/x\n",
        "  except:\n",
        "    print(\"a\",end=\" \")\n",
        "  else:\n",
        "    print(\"b\",end=\" \")\n",
        "  finally:\n",
        "    print(\"c\",end=\" \")\n",
        "f(1)\n",
        "f(0)\n",
        "\n",
        "#it will print \"bcac\""
      ],
      "execution_count": 113,
      "outputs": [
        {
          "output_type": "stream",
          "text": [
            "b c a c "
          ],
          "name": "stdout"
        }
      ]
    }
  ]
}
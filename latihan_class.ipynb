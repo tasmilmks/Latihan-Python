{
  "nbformat": 4,
  "nbformat_minor": 0,
  "metadata": {
    "colab": {
      "name": "latihan_class.ipynb",
      "provenance": [],
      "authorship_tag": "ABX9TyMM/XHpve5jcUo9bexTj7Po",
      "include_colab_link": true
    },
    "kernelspec": {
      "name": "python3",
      "display_name": "Python 3"
    }
  },
  "cells": [
    {
      "cell_type": "markdown",
      "metadata": {
        "id": "view-in-github",
        "colab_type": "text"
      },
      "source": [
        "<a href=\"https://colab.research.google.com/github/tasmilmks/Latihan-Python/blob/master/latihan_class.ipynb\" target=\"_parent\"><img src=\"https://colab.research.google.com/assets/colab-badge.svg\" alt=\"Open In Colab\"/></a>"
      ]
    },
    {
      "cell_type": "code",
      "metadata": {
        "id": "2q3tNK6vtK4e",
        "colab_type": "code",
        "outputId": "81fa7a3b-feb7-4049-f003-4256ef983ff9",
        "colab": {
          "base_uri": "https://localhost:8080/",
          "height": 119
        }
      },
      "source": [
        "class Stack:\n",
        "    def __init__(self):\n",
        "        self.__stackList = []\n",
        "\n",
        "    def push(self, val):\n",
        "        self.__stackList.append(val)\n",
        "\n",
        "    def pop(self):\n",
        "        val = self.__stackList[-1]\n",
        "        del self.__stackList[-1]\n",
        "        return val\n",
        "\n",
        "\n",
        "class AddingStack(Stack):\n",
        "    def __init__(self):\n",
        "        Stack.__init__(self)\n",
        "        self.__sum = 0\n",
        "\n",
        "    def getSum(self):\n",
        "        return self.__sum\n",
        "\n",
        "    def push(self, val):\n",
        "        self.__sum += val\n",
        "        Stack.push(self, val)\n",
        "\n",
        "    def pop(self):\n",
        "        val = Stack.pop(self)\n",
        "        self.__sum -= val\n",
        "        return val\n",
        "\n",
        "\n",
        "stackObject = AddingStack()\n",
        "\n",
        "for i in range(5):\n",
        "    stackObject.push(i)  \n",
        "print(stackObject.getSum())\n",
        "\n",
        "for i in range(5):\n",
        "    print(stackObject.pop())"
      ],
      "execution_count": 0,
      "outputs": [
        {
          "output_type": "stream",
          "text": [
            "10\n",
            "4\n",
            "3\n",
            "2\n",
            "1\n",
            "0\n"
          ],
          "name": "stdout"
        }
      ]
    },
    {
      "cell_type": "code",
      "metadata": {
        "id": "e3fOLcTEESYr",
        "colab_type": "code",
        "outputId": "4e8cd7a0-cfd8-4b4e-c286-9bcf98eeb8f6",
        "colab": {
          "base_uri": "https://localhost:8080/",
          "height": 85
        }
      },
      "source": [
        "class A:\n",
        "  def __init__(self,nama,alamat):\n",
        "    self.nama=nama\n",
        "    self.alamat=alamat\n",
        "a=input(\"Masukkan Nama : \")\n",
        "b=input(\"Masukkan Alamat: \")\n",
        "\n",
        "kirim=A(a,b)\n",
        "print(\"Nama : \",kirim.nama)\n",
        "print(\"Alamat : \",kirim.alamat)\n"
      ],
      "execution_count": 0,
      "outputs": [
        {
          "output_type": "stream",
          "text": [
            "Masukkan Nama : tasmil\n",
            "Masukkan Alamat: makassar\n",
            "Nama :  tasmil\n",
            "Alamat :  makassar\n"
          ],
          "name": "stdout"
        }
      ]
    }
  ]
}
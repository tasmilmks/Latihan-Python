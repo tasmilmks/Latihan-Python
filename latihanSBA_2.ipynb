{
  "nbformat": 4,
  "nbformat_minor": 0,
  "metadata": {
    "colab": {
      "name": "latihanSBA_2.ipynb",
      "provenance": [],
      "authorship_tag": "ABX9TyNi56tZhF8L4MZcoG4sZHEw",
      "include_colab_link": true
    },
    "kernelspec": {
      "name": "python3",
      "display_name": "Python 3"
    }
  },
  "cells": [
    {
      "cell_type": "markdown",
      "metadata": {
        "id": "view-in-github",
        "colab_type": "text"
      },
      "source": [
        "<a href=\"https://colab.research.google.com/github/tasmilmks/Latihan-Python/blob/master/latihanSBA_2.ipynb\" target=\"_parent\"><img src=\"https://colab.research.google.com/assets/colab-badge.svg\" alt=\"Open In Colab\"/></a>"
      ]
    },
    {
      "cell_type": "code",
      "metadata": {
        "id": "WBNZCwHTgWW2",
        "colab_type": "code",
        "colab": {
          "base_uri": "https://localhost:8080/",
          "height": 51
        },
        "outputId": "e102f23b-aa8b-430d-a070-6801e53dce7f"
      },
      "source": [
        "class Parrot:\n",
        "  def __init__(self,name,age):\n",
        "    self.name=name\n",
        "    self.age=age\n",
        "  def sing(self,song):\n",
        "    return \"{} sing {}\".format(self.name,song)\n",
        "  def dance(self):\n",
        "    return \"{} is now dancing\".format(self.name)\n",
        "\n",
        "papi=Parrot(\"Papi\",10)\n",
        "print(papi.sing(\"Happy\"))\n",
        "print(papi.dance())\n",
        "\n"
      ],
      "execution_count": 1,
      "outputs": [
        {
          "output_type": "stream",
          "text": [
            "Papi sing Happy\n",
            "Papi is now dancing\n"
          ],
          "name": "stdout"
        }
      ]
    }
  ]
}
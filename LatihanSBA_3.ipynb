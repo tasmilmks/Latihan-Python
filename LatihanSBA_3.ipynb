{
  "nbformat": 4,
  "nbformat_minor": 0,
  "metadata": {
    "colab": {
      "name": "LatihanSBA_3.ipynb",
      "provenance": [],
      "authorship_tag": "ABX9TyPExfbL5MqliJFI2vloACx8",
      "include_colab_link": true
    },
    "kernelspec": {
      "name": "python3",
      "display_name": "Python 3"
    }
  },
  "cells": [
    {
      "cell_type": "markdown",
      "metadata": {
        "id": "view-in-github",
        "colab_type": "text"
      },
      "source": [
        "<a href=\"https://colab.research.google.com/github/tasmilmks/Latihan-Python/blob/master/LatihanSBA_3.ipynb\" target=\"_parent\"><img src=\"https://colab.research.google.com/assets/colab-badge.svg\" alt=\"Open In Colab\"/></a>"
      ]
    },
    {
      "cell_type": "code",
      "metadata": {
        "id": "jd75n_8uicey",
        "colab_type": "code",
        "colab": {
          "base_uri": "https://localhost:8080/",
          "height": 119
        },
        "outputId": "9685b08e-fab6-4a03-b59a-74f39dbed515"
      },
      "source": [
        "class Kardus:\n",
        "  def __init__(self,panjang,lebar,tinggi):\n",
        "    self.panjang=panjang\n",
        "    self.lebar=lebar\n",
        "    self.tinggi=tinggi\n",
        "  def volumeKardus(self):\n",
        "    vol=self.panjang*self.lebar*self.tinggi\n",
        "    return vol\n",
        "  \n",
        "  def luasPermKardus(self):\n",
        "    luas=2*(self.panjang*self.lebar+self.panjang*self.tinggi+self.tinggi*self.lebar)\n",
        "    return luas\n",
        "\n",
        "  def massaJenis(self,massa):\n",
        "    massajenis=massa/self.volumeKardus()\n",
        "    return massajenis\n",
        "\n",
        "KotakBiru=Kardus(10,8,4)\n",
        "KotakMerah=Kardus(15,5,1)\n",
        "print(\"Volume Kotak Biru : \",KotakBiru.volumeKardus())\n",
        "print(\"Luas Permukaan Kardus Biru : \",KotakBiru.luasPermKardus())\n",
        "print(\"Massa Jenis Kotak Biru : \",KotakBiru.massaJenis(10))\n",
        "\n",
        "print(\"Volume Kotak Merah: \",KotakMerah.volumeKardus())\n",
        "print(\"Luas Permukaan Kotak Merah : \",KotakMerah.luasPermKardus())\n",
        "print(\"Massa Jenis Kotak Merah : \",KotakMerah.massaJenis(10))\n"
      ],
      "execution_count": null,
      "outputs": [
        {
          "output_type": "stream",
          "text": [
            "Volume Kotak Biru :  320\n",
            "Luas Permukaan Kardus Biru :  304\n",
            "Massa Jenis Kotak Biru :  0.03125\n",
            "Volume Kotak Merah:  75\n",
            "Luas Permukaan Kotak Merah :  190\n",
            "Massa Jenis Kotak Merah :  0.13333333333333333\n"
          ],
          "name": "stdout"
        }
      ]
    },
    {
      "cell_type": "code",
      "metadata": {
        "id": "yaWYnwU_DvxA",
        "colab_type": "code",
        "colab": {
          "base_uri": "https://localhost:8080/",
          "height": 102
        },
        "outputId": "6da8aa3e-a7e4-4911-8091-dfc4d4c7a778"
      },
      "source": [
        "dictmapel={'001':'Bahasa Indonesia','002':'Bahasa Inggris','003':'Matematika','004':'Biologi','005':'Fisika'}\n",
        "print(dictmapel)\n",
        "pilihinput=input('a. Masukkan mapel baru / b. Edit Mapel : ')\n",
        "if pilihinput=='a':\n",
        "  jumapel=int(input('Masukkan jumlah mapel yang akan dimasukkan : '))\n",
        "  for i in range(jumapel):\n",
        "    kodemapel=input('Masukan kode mapel : ')\n",
        "    mapel=input('Masukkan nama mapel : ')\n",
        "    dictmapel[kodemapel]=mapel\n",
        "elif pilihinput=='b':\n",
        "  kodemapelganti=input('Masukan kode mapel yang akan diganti : ')\n",
        "  mapelganti=input('Masukkan nama mapel baru  : ')\n",
        "  dictmapel[kodemapelganti]=mapelganti\n",
        "else:\n",
        "  print('tidak ada dalam list menu')\n",
        "\n",
        "print('List baru : ',dictmapel)\n"
      ],
      "execution_count": 5,
      "outputs": [
        {
          "output_type": "stream",
          "text": [
            "{'001': 'Bahasa Indonesia', '002': 'Bahasa Inggris', '003': 'Matematika', '004': 'Biologi', '005': 'Fisika'}\n",
            "a. Masukkan mapel baru / b. Edit Mapel : b\n",
            "Masukan kode mapel yang akan diganti : 003\n",
            "Masukkan nama mapel baru  : Kalkulus\n",
            "List baru :  {'001': 'Bahasa Indonesia', '002': 'Bahasa Inggris', '003': 'Kalkulus', '004': 'Biologi', '005': 'Fisika'}\n"
          ],
          "name": "stdout"
        }
      ]
    }
  ]
}
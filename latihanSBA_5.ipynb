{
  "nbformat": 4,
  "nbformat_minor": 0,
  "metadata": {
    "colab": {
      "name": "latihanSBA_5.ipynb",
      "provenance": [],
      "authorship_tag": "ABX9TyNL3S1IZfapiFqOG8rsEUYZ",
      "include_colab_link": true
    },
    "kernelspec": {
      "name": "python3",
      "display_name": "Python 3"
    }
  },
  "cells": [
    {
      "cell_type": "markdown",
      "metadata": {
        "id": "view-in-github",
        "colab_type": "text"
      },
      "source": [
        "<a href=\"https://colab.research.google.com/github/tasmilmks/Latihan-Python/blob/master/latihanSBA_5.ipynb\" target=\"_parent\"><img src=\"https://colab.research.google.com/assets/colab-badge.svg\" alt=\"Open In Colab\"/></a>"
      ]
    },
    {
      "cell_type": "code",
      "metadata": {
        "id": "C1JUA85AjX9M",
        "colab_type": "code",
        "colab": {
          "base_uri": "https://localhost:8080/",
          "height": 51
        },
        "outputId": "5878693b-552c-424e-bace-f45807c08038"
      },
      "source": [
        "jumlah=input(\"Masukkan nilai mata uang dalam rupiah : \")\n",
        "konversi=round(float(jumlah)/14591)\n",
        "print(\"Nilai mata uang dalam dollar adalah : \",str(konversi)+\" dollar \")"
      ],
      "execution_count": 7,
      "outputs": [
        {
          "output_type": "stream",
          "text": [
            "Masukkan nilai mata uang dalam rupiah : 50000\n",
            "Nilai mata uang dalam dollar adalah :  3.43 dollar \n"
          ],
          "name": "stdout"
        }
      ]
    },
    {
      "cell_type": "code",
      "metadata": {
        "id": "SQtpVnERmO6w",
        "colab_type": "code",
        "colab": {
          "base_uri": "https://localhost:8080/",
          "height": 102
        },
        "outputId": "74be5e87-46df-4f33-ebfe-8fa637c9e465"
      },
      "source": [
        "berat=float(input(\"Input berat badan (kg) : \"))\n",
        "tinggi=float(input(\"Input tinggi badan (m) : \"))\n",
        "bb_ideal=round(berat/tinggi*tinggi,1)\n",
        "if bb_ideal > 22.9 :\n",
        "  print(\"overweight\")\n",
        "elif bb_ideal >=18.5 and bb_ideal <= 22.9:\n",
        "  print(\"normal\")\n",
        "else:\n",
        "  print(\"underweight\")\n",
        "print(bb_ideal)\n"
      ],
      "execution_count": 22,
      "outputs": [
        {
          "output_type": "stream",
          "text": [
            "Input berat badan (kg) : 55\n",
            "Input tinggi badan (m) : 1.5\n",
            "overweight\n",
            "24.4\n",
            "Input berat badan (kg) : 55\n"
          ],
          "name": "stdout"
        }
      ]
    }
  ]
}
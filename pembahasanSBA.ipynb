{
  "nbformat": 4,
  "nbformat_minor": 0,
  "metadata": {
    "colab": {
      "name": "pembahasanSBA.ipynb",
      "provenance": [],
      "authorship_tag": "ABX9TyPQp34GXSmmSY9uSj+ubb58",
      "include_colab_link": true
    },
    "kernelspec": {
      "name": "python3",
      "display_name": "Python 3"
    }
  },
  "cells": [
    {
      "cell_type": "markdown",
      "metadata": {
        "id": "view-in-github",
        "colab_type": "text"
      },
      "source": [
        "<a href=\"https://colab.research.google.com/github/tasmilmks/Latihan-Python/blob/master/pembahasanSBA.ipynb\" target=\"_parent\"><img src=\"https://colab.research.google.com/assets/colab-badge.svg\" alt=\"Open In Colab\"/></a>"
      ]
    },
    {
      "cell_type": "code",
      "metadata": {
        "id": "gOpiXrgVdjiW",
        "colab_type": "code",
        "colab": {
          "base_uri": "https://localhost:8080/",
          "height": 51
        },
        "outputId": "19765d55-3217-4ea7-f0ce-6d4aac651007"
      },
      "source": [
        "class titik2d:\n",
        "  def __init__(self,x,y):\n",
        "    self.x=x\n",
        "    self.y=y\n",
        "  def tambahtitik(self):\n",
        "    return self.x,self.y\n",
        "  def ditambahkan(self,titik):\n",
        "    self.x=self.x+titik.x\n",
        "    self.y=self.y+titik.y\n",
        "\n",
        "x=titik2d(5,5)\n",
        "x.tambahtitik()\n",
        "\n",
        "def run():\n",
        "  s=list(map(float,input().split()))\n",
        "  return titik2d(*s)\n",
        "\n",
        "\n",
        "t1=run()\n",
        "print('titik1',t1.tambahtitik())\n"
      ],
      "execution_count": 15,
      "outputs": [
        {
          "output_type": "stream",
          "text": [
            "4 6\n",
            "titik1 (4.0, 6.0)\n"
          ],
          "name": "stdout"
        }
      ]
    }
  ]
}
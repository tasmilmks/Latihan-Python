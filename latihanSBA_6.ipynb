{
  "nbformat": 4,
  "nbformat_minor": 0,
  "metadata": {
    "colab": {
      "name": "latihanSBA_6.ipynb",
      "provenance": [],
      "authorship_tag": "ABX9TyOperCTqMH5Z50o9Xls1Oyw",
      "include_colab_link": true
    },
    "kernelspec": {
      "name": "python3",
      "display_name": "Python 3"
    }
  },
  "cells": [
    {
      "cell_type": "markdown",
      "metadata": {
        "id": "view-in-github",
        "colab_type": "text"
      },
      "source": [
        "<a href=\"https://colab.research.google.com/github/tasmilmks/Latihan-Python/blob/master/latihanSBA_6.ipynb\" target=\"_parent\"><img src=\"https://colab.research.google.com/assets/colab-badge.svg\" alt=\"Open In Colab\"/></a>"
      ]
    },
    {
      "cell_type": "code",
      "metadata": {
        "id": "Jj-GNVK-wbIh",
        "colab_type": "code",
        "colab": {
          "base_uri": "https://localhost:8080/",
          "height": 85
        },
        "outputId": "525b848a-2506-4122-dd77-37141dc3c2e4"
      },
      "source": [
        "berat=float(input(\"Input berat badan (kg) : \"))\n",
        "tinggi=float(input(\"Input tinggi badan (m) : \"))\n",
        "bb_ideal=round(berat/tinggi**2,1)\n",
        "if bb_ideal > 22.9 :\n",
        "  print(\"overweight\")\n",
        "elif bb_ideal >=18.5 and bb_ideal <= 22.9:\n",
        "  print(\"normal\")\n",
        "else:\n",
        "  print(\"underweight\")\n",
        "print(bb_ideal)"
      ],
      "execution_count": 4,
      "outputs": [
        {
          "output_type": "stream",
          "text": [
            "Input berat badan (kg) : 60\n",
            "Input tinggi badan (m) : 1.65\n",
            "normal\n",
            "22.0\n"
          ],
          "name": "stdout"
        }
      ]
    },
    {
      "cell_type": "code",
      "metadata": {
        "id": "7KZJpH57w_Ed",
        "colab_type": "code",
        "colab": {
          "base_uri": "https://localhost:8080/",
          "height": 187
        },
        "outputId": "67050524-3c64-4343-e4d6-5f79b62c1aad"
      },
      "source": [
        "sheila=[]\n",
        "sheila.append(\"eros\")\n",
        "sheila.append(\"duta\")\n",
        "for i in range(3):\n",
        "  x=input(\"Masukkan nama : \")\n",
        "  sheila.append(x)\n",
        "print(sheila)\n",
        "del sheila[4]\n",
        "del sheila[3]\n",
        "print(sheila)\n",
        "sheila.insert(-1,\"brian\")\n",
        "print(sheila)\n",
        "j=0\n",
        "while j < len(sheila):\n",
        "  print(sheila[j])\n",
        "  j+=1\n",
        "\n"
      ],
      "execution_count": 23,
      "outputs": [
        {
          "output_type": "stream",
          "text": [
            "Masukkan nama : anton\n",
            "Masukkan nama : adam\n",
            "Masukkan nama : sakti\n",
            "['eros', 'duta', 'anton', 'adam', 'sakti']\n",
            "['eros', 'duta', 'anton']\n",
            "['eros', 'duta', 'brian', 'anton']\n",
            "eros\n",
            "duta\n",
            "brian\n",
            "anton\n"
          ],
          "name": "stdout"
        }
      ]
    },
    {
      "cell_type": "code",
      "metadata": {
        "id": "Lo87Eoye2D5J",
        "colab_type": "code",
        "colab": {
          "base_uri": "https://localhost:8080/",
          "height": 52
        },
        "outputId": "9b5ea90a-f886-4ba8-cdab-16047eaa8842"
      },
      "source": [
        "def hapusVokal(kalimat):\n",
        "  kata=''\n",
        "  for i in kalimat:\n",
        "    if i not in['A','I','U','E','O'] :\n",
        "       kata+=i\n",
        "  return kata     \n",
        "x=input(\"Masukkan kalimat : \")\n",
        "hapusVokal(x)\n"
      ],
      "execution_count": 30,
      "outputs": [
        {
          "output_type": "stream",
          "text": [
            "Masukkan kalimat : tasmil\n"
          ],
          "name": "stdout"
        },
        {
          "output_type": "execute_result",
          "data": {
            "application/vnd.google.colaboratory.intrinsic": {
              "type": "string"
            },
            "text/plain": [
              "'tasmil'"
            ]
          },
          "metadata": {
            "tags": []
          },
          "execution_count": 30
        }
      ]
    },
    {
      "cell_type": "code",
      "metadata": {
        "id": "aW9pm_G73w-B",
        "colab_type": "code",
        "colab": {
          "base_uri": "https://localhost:8080/",
          "height": 51
        },
        "outputId": "fce90b25-6e77-42c2-ee7b-aa22ea20bc1a"
      },
      "source": [
        "biodata={'nama':'tasmil'}\n",
        "print(biodata.keys())\n",
        "biodata['nilai_kuis']=[50,60,70,80,100]\n",
        "print(sum(biodata['nilai_kuis'])/len(biodata['nilai_kuis']))\n"
      ],
      "execution_count": 37,
      "outputs": [
        {
          "output_type": "stream",
          "text": [
            "dict_keys(['nama'])\n",
            "72.0\n"
          ],
          "name": "stdout"
        }
      ]
    },
    {
      "cell_type": "code",
      "metadata": {
        "id": "37W2JZjz6wTY",
        "colab_type": "code",
        "colab": {
          "base_uri": "https://localhost:8080/",
          "height": 34
        },
        "outputId": "210b4109-d60f-4809-c07b-64c983bc9e20"
      },
      "source": [
        "class rekening:\n",
        "  def __init__(self,saldo,limit):\n",
        "    self.__saldo=saldo\n",
        "    self.limit=limit\n",
        "  def debit(self,kurang):\n",
        "    if kurang <=self.__saldo:\n",
        "      self.__saldo=self.__saldo-kurang\n",
        "     \n",
        "  def kredit(self,tambah):\n",
        "    if tambah <= (4*self.limit):\n",
        "      self.__saldo=self.__saldo+tambah\n",
        "\n",
        "  def getSaldo(self):\n",
        "    return self.__saldo\n",
        "\n",
        "rek=rekening(500,1000)\n",
        "rek.debit(400)\n",
        "rek.kredit(1000)\n",
        "print('saldo akhir : ',rek.getSaldo())\n",
        "\n",
        "\n",
        "\n",
        "\n",
        "\n",
        "\n"
      ],
      "execution_count": 40,
      "outputs": [
        {
          "output_type": "stream",
          "text": [
            "saldo akhir :  1100\n"
          ],
          "name": "stdout"
        }
      ]
    }
  ]
}